{
  "nbformat": 4,
  "nbformat_minor": 0,
  "metadata": {
    "colab": {
      "provenance": [],
      "toc_visible": true,
      "include_colab_link": true
    },
    "kernelspec": {
      "name": "python3",
      "display_name": "Python 3"
    },
    "language_info": {
      "name": "python"
    }
  },
  "cells": [
    {
      "cell_type": "markdown",
      "metadata": {
        "id": "view-in-github",
        "colab_type": "text"
      },
      "source": [
        "<a href=\"https://colab.research.google.com/github/Dwslr/simulative_colab_python/blob/main/%D0%A3%D1%80%D0%BE%D0%BA_11_%D0%9B%D1%8F%D0%BC%D0%B1%D0%B4%D0%B0_%D1%84%D1%83%D0%BD%D0%BA%D1%86%D0%B8%D0%B8_%D0%A4%D1%83%D0%BD%D0%BA%D1%86%D0%B8%D0%BE%D0%BD%D0%B0%D0%BB%D1%8C%D0%BD%D0%BE%D0%B5_%D0%BF%D1%80%D0%BE%D0%B3%D1%80%D0%B0%D0%BC%D0%BC%D0%B8%D1%80%D0%BE%D0%B2%D0%B0%D0%BD%D0%B8%D0%B5.ipynb\" target=\"_parent\"><img src=\"https://colab.research.google.com/assets/colab-badge.svg\" alt=\"Open In Colab\"/></a>"
      ]
    },
    {
      "cell_type": "markdown",
      "source": [
        "# Основы лямбда-функций"
      ],
      "metadata": {
        "id": "EwBnn4jrQVwE"
      }
    },
    {
      "cell_type": "markdown",
      "source": [
        "## Базовый синтаксис"
      ],
      "metadata": {
        "id": "otFo_M9GQa7k"
      }
    },
    {
      "cell_type": "code",
      "execution_count": null,
      "metadata": {
        "id": "GD5mwh6bJcFT"
      },
      "outputs": [],
      "source": [
        "lambda аргументы: тело функции"
      ]
    },
    {
      "cell_type": "code",
      "source": [
        "def имя функции (аргументы):\n",
        "  тело функции"
      ],
      "metadata": {
        "id": "Ymufgh3zpb67"
      },
      "execution_count": null,
      "outputs": []
    },
    {
      "cell_type": "markdown",
      "source": [
        "## Пример с одной переменной"
      ],
      "metadata": {
        "id": "_RcdhdwqQdRk"
      }
    },
    {
      "cell_type": "code",
      "source": [
        "make_square = lambda x: x**2"
      ],
      "metadata": {
        "id": "aKvht9KXQexs"
      },
      "execution_count": null,
      "outputs": []
    },
    {
      "cell_type": "code",
      "source": [
        "make_square(5)"
      ],
      "metadata": {
        "colab": {
          "base_uri": "https://localhost:8080/"
        },
        "id": "ObkYCXm2pu9o",
        "outputId": "4ea73ead-8437-47fb-8c41-834efea50e33"
      },
      "execution_count": null,
      "outputs": [
        {
          "output_type": "execute_result",
          "data": {
            "text/plain": [
              "25"
            ]
          },
          "metadata": {},
          "execution_count": 33
        }
      ]
    },
    {
      "cell_type": "code",
      "source": [
        "def make_square(x):\n",
        "  return x**2"
      ],
      "metadata": {
        "id": "aK_lE1cPp2_5"
      },
      "execution_count": null,
      "outputs": []
    },
    {
      "cell_type": "code",
      "source": [
        "make_square(5)"
      ],
      "metadata": {
        "colab": {
          "base_uri": "https://localhost:8080/"
        },
        "id": "kXUGYy8gp7rO",
        "outputId": "29803a4e-05f1-4bcb-e023-603652975b0a"
      },
      "execution_count": null,
      "outputs": [
        {
          "output_type": "execute_result",
          "data": {
            "text/plain": [
              "25"
            ]
          },
          "metadata": {},
          "execution_count": 35
        }
      ]
    },
    {
      "cell_type": "markdown",
      "source": [
        "## Пример с несколькими переменными"
      ],
      "metadata": {
        "id": "7DqFtQ0hQe3t"
      }
    },
    {
      "cell_type": "code",
      "source": [
        "adder = lambda x, y, z: x+y+z\n",
        "\n",
        "print(adder(1, 2, 3))"
      ],
      "metadata": {
        "colab": {
          "base_uri": "https://localhost:8080/"
        },
        "id": "6omkY8k3QhA2",
        "outputId": "c57789cd-1bcb-4ba6-81ab-bdba267cf551"
      },
      "execution_count": null,
      "outputs": [
        {
          "output_type": "stream",
          "name": "stdout",
          "text": [
            "6\n"
          ]
        }
      ]
    },
    {
      "cell_type": "markdown",
      "source": [
        "## Пример без переменных"
      ],
      "metadata": {
        "id": "qjVJJwjPQhGN"
      }
    },
    {
      "cell_type": "code",
      "source": [
        "PI = 3.14\n",
        "\n",
        "return_pi = lambda: 3.14\n",
        "\n",
        "print(return_pi())"
      ],
      "metadata": {
        "colab": {
          "base_uri": "https://localhost:8080/"
        },
        "id": "U-wtFVAIQiTT",
        "outputId": "42c1436c-3ebb-429f-a58a-29c53f6c512d"
      },
      "execution_count": null,
      "outputs": [
        {
          "output_type": "stream",
          "name": "stdout",
          "text": [
            "3.14\n"
          ]
        }
      ]
    },
    {
      "cell_type": "markdown",
      "source": [
        "## А что нельзя использовать в lambda?"
      ],
      "metadata": {
        "id": "5JUVRSOgQiYR"
      }
    },
    {
      "cell_type": "code",
      "source": [
        "lambda x: raise ValueError"
      ],
      "metadata": {
        "colab": {
          "base_uri": "https://localhost:8080/",
          "height": 130
        },
        "id": "DCg9SqykQlHc",
        "outputId": "d15922b7-8b0c-4289-d389-a7912ba57040"
      },
      "execution_count": null,
      "outputs": [
        {
          "output_type": "error",
          "ename": "SyntaxError",
          "evalue": "ignored",
          "traceback": [
            "\u001b[0;36m  File \u001b[0;32m\"<ipython-input-43-bd2f0632d8bf>\"\u001b[0;36m, line \u001b[0;32m1\u001b[0m\n\u001b[0;31m    lambda x: raise ValueError\u001b[0m\n\u001b[0m              ^\u001b[0m\n\u001b[0;31mSyntaxError\u001b[0m\u001b[0;31m:\u001b[0m invalid syntax\n"
          ]
        }
      ]
    },
    {
      "cell_type": "code",
      "source": [
        "def foo(x):\n",
        "  ...\n",
        "\n",
        "def foo(x):\n",
        "  pass"
      ],
      "metadata": {
        "id": "CHGxd3plrD58"
      },
      "execution_count": null,
      "outputs": []
    },
    {
      "cell_type": "code",
      "source": [
        "lambda x: x**2"
      ],
      "metadata": {
        "colab": {
          "base_uri": "https://localhost:8080/",
          "height": 130
        },
        "id": "Jg5p0ba2rbcH",
        "outputId": "5999a6c8-39a4-4759-853f-cbd4635cdb7e"
      },
      "execution_count": null,
      "outputs": [
        {
          "output_type": "error",
          "ename": "SyntaxError",
          "evalue": "ignored",
          "traceback": [
            "\u001b[0;36m  File \u001b[0;32m\"<ipython-input-44-83e66e7cc6bb>\"\u001b[0;36m, line \u001b[0;32m1\u001b[0m\n\u001b[0;31m    lambda x:\u001b[0m\n\u001b[0m              ^\u001b[0m\n\u001b[0;31mSyntaxError\u001b[0m\u001b[0;31m:\u001b[0m invalid syntax\n"
          ]
        }
      ]
    },
    {
      "cell_type": "code",
      "source": [
        "def foo():\n",
        ""
      ],
      "metadata": {
        "id": "7_5Zxn89rg7Q"
      },
      "execution_count": null,
      "outputs": []
    },
    {
      "cell_type": "markdown",
      "source": [
        "# Сценарии использования. Функциональное программирование."
      ],
      "metadata": {
        "id": "mQcu1-i6QnPT"
      }
    },
    {
      "cell_type": "code",
      "source": [
        "lst = [1, 2, 3, 4, 5, 6]\n",
        "\n",
        "result = []\n",
        "for el in lst:\n",
        "  if el%2 == 0:\n",
        "    result.append(el)\n",
        "\n",
        "print(result)"
      ],
      "metadata": {
        "colab": {
          "base_uri": "https://localhost:8080/"
        },
        "id": "9oG2-qm4sEi1",
        "outputId": "a43d6d9b-10ab-4725-ee5d-d66eb85aee34"
      },
      "execution_count": null,
      "outputs": [
        {
          "output_type": "stream",
          "name": "stdout",
          "text": [
            "[2, 4, 6]\n"
          ]
        }
      ]
    },
    {
      "cell_type": "markdown",
      "source": [
        "## filter + lambda"
      ],
      "metadata": {
        "id": "bFhBAGVxQq1r"
      }
    },
    {
      "cell_type": "code",
      "source": [
        "list(filter(lambda x: x%2 == 0, lst))"
      ],
      "metadata": {
        "colab": {
          "base_uri": "https://localhost:8080/"
        },
        "id": "9Q7uzghdQsfE",
        "outputId": "32da3702-613a-43e7-9323-f2f3702a9573"
      },
      "execution_count": null,
      "outputs": [
        {
          "output_type": "execute_result",
          "data": {
            "text/plain": [
              "[2, 4, 6]"
            ]
          },
          "metadata": {},
          "execution_count": 47
        }
      ]
    },
    {
      "cell_type": "markdown",
      "source": [
        "## map + lambda"
      ],
      "metadata": {
        "id": "75r5-WYoQsjF"
      }
    },
    {
      "cell_type": "code",
      "source": [
        "lst = [1, 2, 3, 4, 5, 6]\n",
        "\n",
        "result = []\n",
        "for el in lst:\n",
        "  result.append(el**2)\n",
        "\n",
        "print(result)"
      ],
      "metadata": {
        "colab": {
          "base_uri": "https://localhost:8080/"
        },
        "id": "xnypwV9LQucl",
        "outputId": "5749f69a-d65c-40f7-cf95-f3f087a6c2b1"
      },
      "execution_count": null,
      "outputs": [
        {
          "output_type": "stream",
          "name": "stdout",
          "text": [
            "[1, 4, 9, 16, 25, 36]\n"
          ]
        }
      ]
    },
    {
      "cell_type": "code",
      "source": [
        "list(map(lambda x: x**2, lst))"
      ],
      "metadata": {
        "colab": {
          "base_uri": "https://localhost:8080/"
        },
        "id": "oGfB4BHstSwX",
        "outputId": "8162eafb-b93d-402a-f300-f37dd26978a0"
      },
      "execution_count": null,
      "outputs": [
        {
          "output_type": "execute_result",
          "data": {
            "text/plain": [
              "[1, 4, 9, 16, 25, 36]"
            ]
          },
          "metadata": {},
          "execution_count": 49
        }
      ]
    },
    {
      "cell_type": "code",
      "source": [
        "lst = [1.5, 1e-5, 1.23e+1, 5, 1.108]\n",
        "\n",
        "print(list(map(lambda x: int(x), lst)))"
      ],
      "metadata": {
        "colab": {
          "base_uri": "https://localhost:8080/"
        },
        "id": "ihfJT_g3tlPn",
        "outputId": "8f1f4406-1a5c-4acc-8776-a8a95908d8a6"
      },
      "execution_count": null,
      "outputs": [
        {
          "output_type": "stream",
          "name": "stdout",
          "text": [
            "[1, 0, 12, 5, 1]\n"
          ]
        }
      ]
    },
    {
      "cell_type": "code",
      "source": [
        "lst = [1.5, '1e-5', 1.23e+1, 5, '1.108']\n",
        "\n",
        "print(list(map(lambda x: x if isinstance(x, (int, float)) else eval(x), lst)))"
      ],
      "metadata": {
        "colab": {
          "base_uri": "https://localhost:8080/"
        },
        "id": "8JDUYkD8t5v1",
        "outputId": "62cef72d-791c-4068-a09b-436d61b60e72"
      },
      "execution_count": null,
      "outputs": [
        {
          "output_type": "stream",
          "name": "stdout",
          "text": [
            "[1.5, 1e-05, 12.3, 5, 1.108]\n"
          ]
        }
      ]
    },
    {
      "cell_type": "markdown",
      "source": [
        "## А с несколькими переменными?"
      ],
      "metadata": {
        "id": "XQD8zZgiTG_X"
      }
    },
    {
      "cell_type": "code",
      "source": [
        "lst1 = [1, 2, 3]\n",
        "lst2 = [3, 2, 1]\n",
        "\n",
        "print(list(map(lambda x, y: x > y, lst1, lst2)))"
      ],
      "metadata": {
        "colab": {
          "base_uri": "https://localhost:8080/"
        },
        "id": "_6KOg8TpTeDm",
        "outputId": "d8ce8c63-a19a-423e-b04f-1e0ce26a7cb3"
      },
      "execution_count": null,
      "outputs": [
        {
          "output_type": "stream",
          "name": "stdout",
          "text": [
            "[False, False, True]\n"
          ]
        }
      ]
    },
    {
      "cell_type": "markdown",
      "source": [
        "## Условия в lambda"
      ],
      "metadata": {
        "id": "_s62ubN5Q0fb"
      }
    },
    {
      "cell_type": "code",
      "source": [
        "lst = [1.5, '1e-5', 1.23e+1, 5, '1.108']\n",
        "\n",
        "print(list(map(lambda x: x if isinstance(x, (int, float)) else eval(x), lst)))"
      ],
      "metadata": {
        "id": "6dL3fkBjQ3Lg"
      },
      "execution_count": null,
      "outputs": []
    },
    {
      "cell_type": "markdown",
      "source": [
        "## reduce + lambda"
      ],
      "metadata": {
        "id": "y0pX4cLVQu12"
      }
    },
    {
      "cell_type": "code",
      "source": [
        "from functools import reduce"
      ],
      "metadata": {
        "id": "TOtGbyLOQw2K"
      },
      "execution_count": null,
      "outputs": []
    },
    {
      "cell_type": "code",
      "source": [
        "[1, 2, 3, 4, 5]"
      ],
      "metadata": {
        "id": "7gIYLYLevD8_"
      },
      "execution_count": null,
      "outputs": []
    },
    {
      "cell_type": "code",
      "source": [
        "lst = [1, 10, -1, 5, 6, 3]"
      ],
      "metadata": {
        "id": "G3XmpNlkvZ5-"
      },
      "execution_count": null,
      "outputs": []
    },
    {
      "cell_type": "code",
      "source": [
        "reduce(lambda x, y: x+y, lst)"
      ],
      "metadata": {
        "colab": {
          "base_uri": "https://localhost:8080/"
        },
        "id": "Q7rTatluvdp_",
        "outputId": "1abd3e74-c6cf-4d14-ec95-3427aa3881ae"
      },
      "execution_count": null,
      "outputs": [
        {
          "output_type": "execute_result",
          "data": {
            "text/plain": [
              "24"
            ]
          },
          "metadata": {},
          "execution_count": 55
        }
      ]
    },
    {
      "cell_type": "code",
      "source": [
        "reduce(lambda x, y: x if x > y else y, lst)"
      ],
      "metadata": {
        "colab": {
          "base_uri": "https://localhost:8080/"
        },
        "id": "tHAOemEdvoA3",
        "outputId": "46f72a60-10a5-40cc-a6b7-d8b0ce15b3a8"
      },
      "execution_count": null,
      "outputs": [
        {
          "output_type": "execute_result",
          "data": {
            "text/plain": [
              "10"
            ]
          },
          "metadata": {},
          "execution_count": 56
        }
      ]
    },
    {
      "cell_type": "markdown",
      "source": [
        "## lambda + сортировка"
      ],
      "metadata": {
        "id": "ETq764s8RJFy"
      }
    },
    {
      "cell_type": "code",
      "source": [
        "class Person:\n",
        "  age = 0\n",
        "  name = ''\n",
        "\n",
        "Mike = Person()\n",
        "Mike.name = 'Mike'\n",
        "Mike.age = 15\n",
        "\n",
        "Joe = Person()\n",
        "Joe.name = 'Joe'\n",
        "Joe.age = 20\n",
        "\n",
        "Mary = Person()\n",
        "Mary.name = 'Mary'\n",
        "Mary.age = 13\n",
        "\n",
        "lst = [Mike, Joe, Mary]"
      ],
      "metadata": {
        "id": "Wo54Pvi6SDFY"
      },
      "execution_count": null,
      "outputs": []
    },
    {
      "cell_type": "code",
      "source": [
        "lst"
      ],
      "metadata": {
        "colab": {
          "base_uri": "https://localhost:8080/"
        },
        "id": "0yBLThHQwk35",
        "outputId": "da21fa4f-bdb8-468f-a4ca-720d6469beac"
      },
      "execution_count": null,
      "outputs": [
        {
          "output_type": "execute_result",
          "data": {
            "text/plain": [
              "[<__main__.Person at 0x7f90fc6c90a0>,\n",
              " <__main__.Person at 0x7f90fc6c94c0>,\n",
              " <__main__.Person at 0x7f90fc6c9b50>]"
            ]
          },
          "metadata": {},
          "execution_count": 58
        }
      ]
    },
    {
      "cell_type": "code",
      "source": [
        "lst.sort(key=lambda x: x.age)"
      ],
      "metadata": {
        "id": "EuEB1jCXwoMU"
      },
      "execution_count": null,
      "outputs": []
    },
    {
      "cell_type": "code",
      "source": [
        "lst"
      ],
      "metadata": {
        "colab": {
          "base_uri": "https://localhost:8080/"
        },
        "id": "UKoONNzQw5GN",
        "outputId": "77795fb7-0569-4093-b5b0-2659f7a81909"
      },
      "execution_count": null,
      "outputs": [
        {
          "output_type": "execute_result",
          "data": {
            "text/plain": [
              "[<__main__.Person at 0x7f90fc6c9b50>,\n",
              " <__main__.Person at 0x7f90fc6c90a0>,\n",
              " <__main__.Person at 0x7f90fc6c94c0>]"
            ]
          },
          "metadata": {},
          "execution_count": 60
        }
      ]
    },
    {
      "cell_type": "code",
      "source": [
        "for person in lst:\n",
        "  print(person.name)"
      ],
      "metadata": {
        "colab": {
          "base_uri": "https://localhost:8080/"
        },
        "id": "bpcmP7wBw8ce",
        "outputId": "fc9a9bb9-78d6-4cdf-d4db-7d0c744bae3f"
      },
      "execution_count": null,
      "outputs": [
        {
          "output_type": "stream",
          "name": "stdout",
          "text": [
            "Mary\n",
            "Mike\n",
            "Joe\n"
          ]
        }
      ]
    },
    {
      "cell_type": "code",
      "source": [
        "d = {\n",
        "    1: {\n",
        "        'Фон': 10,\n",
        "        'Пик': 20,\n",
        "        'Подъем': -3,\n",
        "        'Спад': 5\n",
        "    },\n",
        "    2: {\n",
        "        'Фон': 10,\n",
        "        'Пик': 20,\n",
        "        'Подъем': 300,\n",
        "        'Спад': 5\n",
        "    },\n",
        "    3: {\n",
        "        'Фон': 10,\n",
        "        'Пик': 20,\n",
        "        'Подъем': 300,\n",
        "        'Спад': 555\n",
        "    }\n",
        "}"
      ],
      "metadata": {
        "id": "iB0jGCWOxFeG"
      },
      "execution_count": null,
      "outputs": []
    },
    {
      "cell_type": "code",
      "source": [
        "d1 = {\n",
        "        'Фон': 10,\n",
        "        'Пик': 20,\n",
        "        'Подъем': -3,\n",
        "        'Спад': 5\n",
        "    }"
      ],
      "metadata": {
        "id": "82lb7JeTxiLC"
      },
      "execution_count": null,
      "outputs": []
    },
    {
      "cell_type": "code",
      "source": [
        "max(d1, key=d1.get)"
      ],
      "metadata": {
        "colab": {
          "base_uri": "https://localhost:8080/",
          "height": 35
        },
        "id": "7C8KJEUSyAea",
        "outputId": "d7d01f3b-148f-4d2e-9bff-37914305fed0"
      },
      "execution_count": null,
      "outputs": [
        {
          "output_type": "execute_result",
          "data": {
            "text/plain": [
              "'Пик'"
            ],
            "application/vnd.google.colaboratory.intrinsic+json": {
              "type": "string"
            }
          },
          "metadata": {},
          "execution_count": 67
        }
      ]
    },
    {
      "cell_type": "code",
      "source": [
        "list(map(lambda x: max(x, key=x.get), d.values()))"
      ],
      "metadata": {
        "colab": {
          "base_uri": "https://localhost:8080/"
        },
        "id": "YcG23rLqyj2K",
        "outputId": "ae4dec97-3e4a-4656-c548-f3fad01ce91f"
      },
      "execution_count": null,
      "outputs": [
        {
          "output_type": "execute_result",
          "data": {
            "text/plain": [
              "['Пик', 'Подъем', 'Спад']"
            ]
          },
          "metadata": {},
          "execution_count": 70
        }
      ]
    },
    {
      "cell_type": "markdown",
      "source": [
        "## Как проверить, что перед нами - lambda?"
      ],
      "metadata": {
        "id": "m_KfC03nQ4ur"
      }
    },
    {
      "cell_type": "code",
      "source": [
        "x = 1.23\n",
        "isinstance(x, (int, float))"
      ],
      "metadata": {
        "colab": {
          "base_uri": "https://localhost:8080/"
        },
        "id": "TGo__tq2orQu",
        "outputId": "58ec8df4-e5c6-44f3-fe86-f2232952fd51"
      },
      "execution_count": null,
      "outputs": [
        {
          "output_type": "execute_result",
          "data": {
            "text/plain": [
              "True"
            ]
          },
          "metadata": {},
          "execution_count": 71
        }
      ]
    },
    {
      "cell_type": "code",
      "source": [
        "from types import LambdaType"
      ],
      "metadata": {
        "id": "M5Pc4om_zIxw"
      },
      "execution_count": null,
      "outputs": []
    },
    {
      "cell_type": "code",
      "source": [
        "x = lambda x: x**2\n",
        "\n",
        "isinstance(x, LambdaType)"
      ],
      "metadata": {
        "colab": {
          "base_uri": "https://localhost:8080/"
        },
        "id": "IK-_-JqpzN0Z",
        "outputId": "22499b7b-703c-4fd0-bffd-0971e295e0b0"
      },
      "execution_count": null,
      "outputs": [
        {
          "output_type": "execute_result",
          "data": {
            "text/plain": [
              "True"
            ]
          },
          "metadata": {},
          "execution_count": 73
        }
      ]
    },
    {
      "cell_type": "code",
      "source": [
        "def foo(x):\n",
        "  return x**2\n",
        "\n",
        "isinstance(foo, LambdaType)"
      ],
      "metadata": {
        "colab": {
          "base_uri": "https://localhost:8080/"
        },
        "id": "dOSGq31wzTjD",
        "outputId": "94e80000-a52b-4a0f-aa71-da0535decaf9"
      },
      "execution_count": null,
      "outputs": [
        {
          "output_type": "execute_result",
          "data": {
            "text/plain": [
              "True"
            ]
          },
          "metadata": {},
          "execution_count": 74
        }
      ]
    },
    {
      "cell_type": "code",
      "source": [
        "lst = [['Andron', 5], ['Ivan', 7], ['Kirill', 3], ['Aaron', 1]]"
      ],
      "metadata": {
        "id": "r9xoi_EU1v1Y"
      },
      "execution_count": null,
      "outputs": []
    },
    {
      "cell_type": "code",
      "source": [
        "sorted(lst, key=lambda x: x[1])"
      ],
      "metadata": {
        "colab": {
          "base_uri": "https://localhost:8080/"
        },
        "id": "MnsIWQ9l16TG",
        "outputId": "a67fd11c-c41e-4ad4-e0a5-a86830049f28"
      },
      "execution_count": null,
      "outputs": [
        {
          "output_type": "execute_result",
          "data": {
            "text/plain": [
              "[['Aaron', 1], ['Kirill', 3], ['Andron', 5], ['Ivan', 7]]"
            ]
          },
          "metadata": {},
          "execution_count": 80
        }
      ]
    }
  ]
}