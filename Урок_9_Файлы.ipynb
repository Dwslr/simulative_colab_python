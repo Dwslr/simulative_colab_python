{
  "nbformat": 4,
  "nbformat_minor": 0,
  "metadata": {
    "colab": {
      "provenance": [],
      "include_colab_link": true
    },
    "kernelspec": {
      "name": "python3",
      "display_name": "Python 3"
    },
    "language_info": {
      "name": "python"
    }
  },
  "cells": [
    {
      "cell_type": "markdown",
      "metadata": {
        "id": "view-in-github",
        "colab_type": "text"
      },
      "source": [
        "<a href=\"https://colab.research.google.com/github/Dwslr/simulative_colab_python/blob/main/%D0%A3%D1%80%D0%BE%D0%BA_9_%D0%A4%D0%B0%D0%B9%D0%BB%D1%8B.ipynb\" target=\"_parent\"><img src=\"https://colab.research.google.com/assets/colab-badge.svg\" alt=\"Open In Colab\"/></a>"
      ]
    },
    {
      "cell_type": "markdown",
      "source": [
        "# Как открыть и прочитать файл?\n",
        "\n",
        "\n"
      ],
      "metadata": {
        "id": "mKrOGhrS6SGf"
      }
    },
    {
      "cell_type": "code",
      "source": [
        "f = open('data1.txt', 'r')"
      ],
      "metadata": {
        "id": "UG8ib3iq6YFf"
      },
      "execution_count": null,
      "outputs": []
    },
    {
      "cell_type": "code",
      "source": [
        "f"
      ],
      "metadata": {
        "colab": {
          "base_uri": "https://localhost:8080/"
        },
        "id": "Ic50QGoL-6E0",
        "outputId": "29f88c59-3e45-47ce-d91c-c15acf1c0dd1"
      },
      "execution_count": null,
      "outputs": [
        {
          "output_type": "execute_result",
          "data": {
            "text/plain": [
              "<_io.TextIOWrapper name='data1.txt' mode='r' encoding='UTF-8'>"
            ]
          },
          "metadata": {},
          "execution_count": 28
        }
      ]
    },
    {
      "cell_type": "code",
      "source": [
        "s = f.read()"
      ],
      "metadata": {
        "id": "4mudrxp8--oo"
      },
      "execution_count": null,
      "outputs": []
    },
    {
      "cell_type": "code",
      "source": [
        "s"
      ],
      "metadata": {
        "colab": {
          "base_uri": "https://localhost:8080/",
          "height": 35
        },
        "id": "hiPJB5t6_BcX",
        "outputId": "cfab267a-4b6c-48ef-de0c-2d6e9754c483"
      },
      "execution_count": null,
      "outputs": [
        {
          "output_type": "execute_result",
          "data": {
            "text/plain": [
              "'Привет, меня зовут Андрон\\n\\nПривет, меня зовут Андрон [2]'"
            ],
            "application/vnd.google.colaboratory.intrinsic+json": {
              "type": "string"
            }
          },
          "metadata": {},
          "execution_count": 35
        }
      ]
    },
    {
      "cell_type": "markdown",
      "source": [
        "# Какие есть режимы открытия файла?"
      ],
      "metadata": {
        "id": "06amzClU6YNQ"
      }
    },
    {
      "cell_type": "code",
      "source": [
        "open('data1.txt', 'r')"
      ],
      "metadata": {
        "id": "-qXasWGv6a5h"
      },
      "execution_count": null,
      "outputs": []
    },
    {
      "cell_type": "code",
      "source": [
        "f = open('data1.txt', 'rb')\n",
        "s = f.read()\n",
        "s"
      ],
      "metadata": {
        "colab": {
          "base_uri": "https://localhost:8080/"
        },
        "id": "fnXLDrBl_Vd-",
        "outputId": "cc5ccff2-4de1-45c4-93f8-71b73793efa4"
      },
      "execution_count": null,
      "outputs": [
        {
          "output_type": "execute_result",
          "data": {
            "text/plain": [
              "b'\\xd0\\x9f\\xd1\\x80\\xd0\\xb8\\xd0\\xb2\\xd0\\xb5\\xd1\\x82, \\xd0\\xbc\\xd0\\xb5\\xd0\\xbd\\xd1\\x8f \\xd0\\xb7\\xd0\\xbe\\xd0\\xb2\\xd1\\x83\\xd1\\x82 \\xd0\\x90\\xd0\\xbd\\xd0\\xb4\\xd1\\x80\\xd0\\xbe\\xd0\\xbd\\r\\n\\r\\n\\xd0\\x9f\\xd1\\x80\\xd0\\xb8\\xd0\\xb2\\xd0\\xb5\\xd1\\x82, \\xd0\\xbc\\xd0\\xb5\\xd0\\xbd\\xd1\\x8f \\xd0\\xb7\\xd0\\xbe\\xd0\\xb2\\xd1\\x83\\xd1\\x82 \\xd0\\x90\\xd0\\xbd\\xd0\\xb4\\xd1\\x80\\xd0\\xbe\\xd0\\xbd [2]'"
            ]
          },
          "metadata": {},
          "execution_count": 37
        }
      ]
    },
    {
      "cell_type": "code",
      "source": [
        "f = open('data2.txt', 'w')\n",
        "f.write('Это новый текст [2]')\n",
        "f.close()"
      ],
      "metadata": {
        "id": "z5Ejqsc5_jdv"
      },
      "execution_count": null,
      "outputs": []
    },
    {
      "cell_type": "code",
      "source": [
        "f = open('data2.txt', 'a')\n",
        "f.write('Это новый текст [5]')\n",
        "f.close()"
      ],
      "metadata": {
        "id": "O6aJ7pMlARNY"
      },
      "execution_count": null,
      "outputs": []
    },
    {
      "cell_type": "markdown",
      "source": [
        "# Про кодировки"
      ],
      "metadata": {
        "id": "GptAixYe6bEM"
      }
    },
    {
      "cell_type": "code",
      "source": [
        "open('data.txt', 'r', encoding='latin-1').read()"
      ],
      "metadata": {
        "colab": {
          "base_uri": "https://localhost:8080/",
          "height": 35
        },
        "id": "GlmaEPdV6cJv",
        "outputId": "ce1f3d2a-9643-4ac6-b5eb-583670180b35"
      },
      "execution_count": null,
      "outputs": [
        {
          "output_type": "execute_result",
          "data": {
            "text/plain": [
              "'my Ã¼nicÃ´dÃ© strÄ¯ng'"
            ],
            "application/vnd.google.colaboratory.intrinsic+json": {
              "type": "string"
            }
          },
          "metadata": {},
          "execution_count": 44
        }
      ]
    },
    {
      "cell_type": "code",
      "source": [
        "open('data.txt', 'r', encoding='cp1251').read()"
      ],
      "metadata": {
        "colab": {
          "base_uri": "https://localhost:8080/",
          "height": 35
        },
        "id": "Kojb4HCEBpFi",
        "outputId": "3ab7bbb1-7a24-4b84-eb30-3411084b8c65"
      },
      "execution_count": null,
      "outputs": [
        {
          "output_type": "execute_result",
          "data": {
            "text/plain": [
              "'my ГјnicГґdГ© strДЇng'"
            ],
            "application/vnd.google.colaboratory.intrinsic+json": {
              "type": "string"
            }
          },
          "metadata": {},
          "execution_count": 45
        }
      ]
    },
    {
      "cell_type": "code",
      "source": [
        "open('data.txt', 'r', encoding='utf-8').read()"
      ],
      "metadata": {
        "colab": {
          "base_uri": "https://localhost:8080/",
          "height": 35
        },
        "id": "t-wmupN0BrJZ",
        "outputId": "42f60880-ffc2-4a43-a161-f9f69329181a"
      },
      "execution_count": null,
      "outputs": [
        {
          "output_type": "execute_result",
          "data": {
            "text/plain": [
              "'my ünicôdé strįng'"
            ],
            "application/vnd.google.colaboratory.intrinsic+json": {
              "type": "string"
            }
          },
          "metadata": {},
          "execution_count": 46
        }
      ]
    },
    {
      "cell_type": "markdown",
      "source": [
        "# Файл надо закрыть!"
      ],
      "metadata": {
        "id": "5x33ieZK6cQz"
      }
    },
    {
      "cell_type": "code",
      "source": [
        "f.close()"
      ],
      "metadata": {
        "id": "sCLuGf0-6ejX"
      },
      "execution_count": null,
      "outputs": []
    },
    {
      "cell_type": "markdown",
      "source": [
        "# Файлы и контекстные менеджеры\n"
      ],
      "metadata": {
        "id": "NrXrds5R6eoe"
      }
    },
    {
      "cell_type": "code",
      "source": [
        "with open('data.txt', 'r', encoding='utf-8') as f:\n",
        "  s = f.read()\n",
        "\n",
        "f"
      ],
      "metadata": {
        "colab": {
          "base_uri": "https://localhost:8080/"
        },
        "id": "dBkBoT1N6gc_",
        "outputId": "ef5822e8-5847-49fd-a3de-39bba715c2ed"
      },
      "execution_count": null,
      "outputs": [
        {
          "output_type": "execute_result",
          "data": {
            "text/plain": [
              "<_io.TextIOWrapper name='data.txt' mode='r' encoding='utf-8'>"
            ]
          },
          "metadata": {},
          "execution_count": 50
        }
      ]
    },
    {
      "cell_type": "markdown",
      "source": [
        "# Про работу с другими файлами"
      ],
      "metadata": {
        "id": "SpFKC-IA6g2d"
      }
    },
    {
      "cell_type": "code",
      "source": [
        "dbfread, openpyxl, pandas, csv"
      ],
      "metadata": {
        "id": "UgCcGEoT-C0t"
      },
      "execution_count": null,
      "outputs": []
    },
    {
      "cell_type": "code",
      "source": [
        "with open('test.txt', 'r', encoding='Big5') as f:\n",
        "  s = f.read()\n",
        "\n",
        "s"
      ],
      "metadata": {
        "colab": {
          "base_uri": "https://localhost:8080/",
          "height": 35
        },
        "id": "_urCEdfKGeK7",
        "outputId": "af2a72dd-dbb3-40e5-ac0d-9c53fe272ffe"
      },
      "execution_count": null,
      "outputs": [
        {
          "output_type": "execute_result",
          "data": {
            "text/plain": [
              "'我叫安德龍'"
            ],
            "application/vnd.google.colaboratory.intrinsic+json": {
              "type": "string"
            }
          },
          "metadata": {},
          "execution_count": 55
        }
      ]
    }
  ]
}