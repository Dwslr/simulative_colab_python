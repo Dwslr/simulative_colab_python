{
  "nbformat": 4,
  "nbformat_minor": 0,
  "metadata": {
    "colab": {
      "provenance": [],
      "include_colab_link": true
    },
    "kernelspec": {
      "name": "python3",
      "display_name": "Python 3"
    },
    "language_info": {
      "name": "python"
    }
  },
  "cells": [
    {
      "cell_type": "markdown",
      "metadata": {
        "id": "view-in-github",
        "colab_type": "text"
      },
      "source": [
        "<a href=\"https://colab.research.google.com/github/Dwslr/simulative_colab_python/blob/main/%D0%A3%D1%80%D0%BE%D0%BA_4_%D0%94%D0%BE%D0%BF%D0%BE%D0%BB%D0%BD%D0%B8%D1%82%D0%B5%D0%BB%D1%8C%D0%BD%D1%8B%D0%B5_%D1%82%D0%B8%D0%BF%D1%8B_%D0%B4%D0%B0%D0%BD%D0%BD%D1%8B%D1%85.ipynb\" target=\"_parent\"><img src=\"https://colab.research.google.com/assets/colab-badge.svg\" alt=\"Open In Colab\"/></a>"
      ]
    },
    {
      "cell_type": "markdown",
      "source": [
        "# Дополнительные типы данных"
      ],
      "metadata": {
        "id": "B_1oeKvD5MsV"
      }
    },
    {
      "cell_type": "markdown",
      "source": [
        "## frozenset"
      ],
      "metadata": {
        "id": "0fA9HFK35Os2"
      }
    },
    {
      "cell_type": "code",
      "source": [
        "s = {1, 2, 3, 1, 5}"
      ],
      "metadata": {
        "id": "VcFNGZX85QJ1"
      },
      "execution_count": null,
      "outputs": []
    },
    {
      "cell_type": "code",
      "source": [
        "s"
      ],
      "metadata": {
        "colab": {
          "base_uri": "https://localhost:8080/"
        },
        "id": "2js7rAMr5jbV",
        "outputId": "d06d4929-c428-405d-cef4-c2bd7e169e2c"
      },
      "execution_count": null,
      "outputs": [
        {
          "output_type": "execute_result",
          "data": {
            "text/plain": [
              "{1, 2, 3, 5}"
            ]
          },
          "metadata": {},
          "execution_count": 13
        }
      ]
    },
    {
      "cell_type": "code",
      "source": [
        "s.add(6)"
      ],
      "metadata": {
        "id": "hGfwGmxl5lZb"
      },
      "execution_count": null,
      "outputs": []
    },
    {
      "cell_type": "code",
      "source": [
        "s"
      ],
      "metadata": {
        "colab": {
          "base_uri": "https://localhost:8080/"
        },
        "id": "uKjv1KLj5nW1",
        "outputId": "14d2658d-1dca-4f91-c78f-853750653647"
      },
      "execution_count": null,
      "outputs": [
        {
          "output_type": "execute_result",
          "data": {
            "text/plain": [
              "{1, 2, 3, 5, 6}"
            ]
          },
          "metadata": {},
          "execution_count": 17
        }
      ]
    },
    {
      "cell_type": "code",
      "source": [
        "s2 = frozenset('abcdaavb')"
      ],
      "metadata": {
        "id": "RSG2nE6655Ce"
      },
      "execution_count": null,
      "outputs": []
    },
    {
      "cell_type": "code",
      "source": [
        "s2"
      ],
      "metadata": {
        "colab": {
          "base_uri": "https://localhost:8080/"
        },
        "id": "ev7NZpoS6BDv",
        "outputId": "12a2973f-05a4-45a3-fd4d-f9a24906e8f2"
      },
      "execution_count": null,
      "outputs": [
        {
          "output_type": "execute_result",
          "data": {
            "text/plain": [
              "frozenset({'a', 'b', 'c', 'd', 'v'})"
            ]
          },
          "metadata": {},
          "execution_count": 19
        }
      ]
    },
    {
      "cell_type": "code",
      "source": [
        "s2.add('z')"
      ],
      "metadata": {
        "colab": {
          "base_uri": "https://localhost:8080/",
          "height": 165
        },
        "id": "6-1kSYFU6BKW",
        "outputId": "0967d131-09e3-4d23-edf1-242fe8990072"
      },
      "execution_count": null,
      "outputs": [
        {
          "output_type": "error",
          "ename": "AttributeError",
          "evalue": "ignored",
          "traceback": [
            "\u001b[0;31m---------------------------------------------------------------------------\u001b[0m",
            "\u001b[0;31mAttributeError\u001b[0m                            Traceback (most recent call last)",
            "\u001b[0;32m<ipython-input-20-e540f7777576>\u001b[0m in \u001b[0;36m<module>\u001b[0;34m\u001b[0m\n\u001b[0;32m----> 1\u001b[0;31m \u001b[0ms2\u001b[0m\u001b[0;34m.\u001b[0m\u001b[0madd\u001b[0m\u001b[0;34m(\u001b[0m\u001b[0;34m'z'\u001b[0m\u001b[0;34m)\u001b[0m\u001b[0;34m\u001b[0m\u001b[0;34m\u001b[0m\u001b[0m\n\u001b[0m",
            "\u001b[0;31mAttributeError\u001b[0m: 'frozenset' object has no attribute 'add'"
          ]
        }
      ]
    },
    {
      "cell_type": "markdown",
      "source": [
        "## namedtuple"
      ],
      "metadata": {
        "id": "RvjuXVPo5QPI"
      }
    },
    {
      "cell_type": "code",
      "source": [
        "from collections import namedtuple"
      ],
      "metadata": {
        "id": "h2_0kXAj5ReL"
      },
      "execution_count": null,
      "outputs": []
    },
    {
      "cell_type": "code",
      "source": [
        "p1 = (15, 45)"
      ],
      "metadata": {
        "id": "Pvpvyab26YcY"
      },
      "execution_count": null,
      "outputs": []
    },
    {
      "cell_type": "code",
      "source": [
        "p1[0], p1[1]"
      ],
      "metadata": {
        "colab": {
          "base_uri": "https://localhost:8080/"
        },
        "id": "kIa1ONlu6rmx",
        "outputId": "ca2cc399-746d-4b16-ec08-ccc8e4173cad"
      },
      "execution_count": null,
      "outputs": [
        {
          "output_type": "execute_result",
          "data": {
            "text/plain": [
              "(15, 45)"
            ]
          },
          "metadata": {},
          "execution_count": 23
        }
      ]
    },
    {
      "cell_type": "code",
      "source": [
        "Point = namedtuple('Point', ['x', 'y'])"
      ],
      "metadata": {
        "id": "Vr812Nkc6uYE"
      },
      "execution_count": null,
      "outputs": []
    },
    {
      "cell_type": "code",
      "source": [
        "p2 = Point(y=45, x=15)"
      ],
      "metadata": {
        "id": "VVhxJa_F6ztO"
      },
      "execution_count": null,
      "outputs": []
    },
    {
      "cell_type": "code",
      "source": [
        "p2.y"
      ],
      "metadata": {
        "colab": {
          "base_uri": "https://localhost:8080/"
        },
        "id": "fiEwNt8D66S0",
        "outputId": "6b478cbb-3f75-42a4-8674-230c783d6e4d"
      },
      "execution_count": null,
      "outputs": [
        {
          "output_type": "execute_result",
          "data": {
            "text/plain": [
              "45"
            ]
          },
          "metadata": {},
          "execution_count": 29
        }
      ]
    },
    {
      "cell_type": "markdown",
      "source": [
        "## Counter"
      ],
      "metadata": {
        "id": "xpeooibo5Rk4"
      }
    },
    {
      "cell_type": "code",
      "source": [
        "from collections import Counter"
      ],
      "metadata": {
        "id": "wZ24spl_5S5g"
      },
      "execution_count": null,
      "outputs": []
    },
    {
      "cell_type": "code",
      "source": [
        "s = 'мама мыла раму карл у клары украл кораллы снова мама снова мыла снова раму снова у карла'"
      ],
      "metadata": {
        "id": "0SD3e3JZ7L7f"
      },
      "execution_count": null,
      "outputs": []
    },
    {
      "cell_type": "code",
      "source": [
        "c = Counter(s)"
      ],
      "metadata": {
        "id": "tyA_tupz7T0Q"
      },
      "execution_count": null,
      "outputs": []
    },
    {
      "cell_type": "code",
      "source": [
        "c"
      ],
      "metadata": {
        "colab": {
          "base_uri": "https://localhost:8080/"
        },
        "id": "08w7vGmA7gTB",
        "outputId": "865aae50-1285-44dd-9ff3-3d135c6ffe5e"
      },
      "execution_count": null,
      "outputs": [
        {
          "output_type": "execute_result",
          "data": {
            "text/plain": [
              "Counter({'м': 4,\n",
              "         'а': 8,\n",
              "         ' ': 7,\n",
              "         'ы': 3,\n",
              "         'л': 6,\n",
              "         'р': 5,\n",
              "         'у': 3,\n",
              "         'к': 4,\n",
              "         'о': 1})"
            ]
          },
          "metadata": {},
          "execution_count": 35
        }
      ]
    },
    {
      "cell_type": "code",
      "source": [
        "c.most_common()[::-1]"
      ],
      "metadata": {
        "colab": {
          "base_uri": "https://localhost:8080/"
        },
        "id": "lgRX3HEe7cFU",
        "outputId": "f45e3a9d-df5a-441b-fa17-836ddf052625"
      },
      "execution_count": null,
      "outputs": [
        {
          "output_type": "execute_result",
          "data": {
            "text/plain": [
              "[('о', 1),\n",
              " ('у', 3),\n",
              " ('ы', 3),\n",
              " ('к', 4),\n",
              " ('м', 4),\n",
              " ('р', 5),\n",
              " ('л', 6),\n",
              " (' ', 7),\n",
              " ('а', 8)]"
            ]
          },
          "metadata": {},
          "execution_count": 39
        }
      ]
    },
    {
      "cell_type": "code",
      "source": [
        "l = s.split(' ')"
      ],
      "metadata": {
        "id": "AqXDrQHQ7qGJ"
      },
      "execution_count": null,
      "outputs": []
    },
    {
      "cell_type": "code",
      "source": [
        "l"
      ],
      "metadata": {
        "colab": {
          "base_uri": "https://localhost:8080/"
        },
        "id": "BOamAu3_73Sf",
        "outputId": "6c0f8c56-3e71-483e-f7bd-5e02391afb21"
      },
      "execution_count": null,
      "outputs": [
        {
          "output_type": "execute_result",
          "data": {
            "text/plain": [
              "['мама',\n",
              " 'мыла',\n",
              " 'раму',\n",
              " 'карл',\n",
              " 'у',\n",
              " 'клары',\n",
              " 'украл',\n",
              " 'кораллы',\n",
              " 'снова',\n",
              " 'мама',\n",
              " 'снова',\n",
              " 'мыла',\n",
              " 'снова',\n",
              " 'раму',\n",
              " 'снова',\n",
              " 'у',\n",
              " 'карла']"
            ]
          },
          "metadata": {},
          "execution_count": 42
        }
      ]
    },
    {
      "cell_type": "code",
      "source": [
        "Counter(l).most_common(1)[0][1]"
      ],
      "metadata": {
        "colab": {
          "base_uri": "https://localhost:8080/"
        },
        "id": "xtJCmvo_74ij",
        "outputId": "51c4c4a4-c399-4794-833b-c02507d7dc39"
      },
      "execution_count": null,
      "outputs": [
        {
          "output_type": "execute_result",
          "data": {
            "text/plain": [
              "4"
            ]
          },
          "metadata": {},
          "execution_count": 47
        }
      ]
    }
  ]
}