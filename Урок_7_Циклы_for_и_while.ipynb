{
  "nbformat": 4,
  "nbformat_minor": 0,
  "metadata": {
    "colab": {
      "provenance": [],
      "toc_visible": true,
      "include_colab_link": true
    },
    "kernelspec": {
      "name": "python3",
      "display_name": "Python 3"
    },
    "language_info": {
      "name": "python"
    }
  },
  "cells": [
    {
      "cell_type": "markdown",
      "metadata": {
        "id": "view-in-github",
        "colab_type": "text"
      },
      "source": [
        "<a href=\"https://colab.research.google.com/github/Dwslr/simulative_colab_python/blob/main/%D0%A3%D1%80%D0%BE%D0%BA_7_%D0%A6%D0%B8%D0%BA%D0%BB%D1%8B_for_%D0%B8_while.ipynb\" target=\"_parent\"><img src=\"https://colab.research.google.com/assets/colab-badge.svg\" alt=\"Open In Colab\"/></a>"
      ]
    },
    {
      "cell_type": "markdown",
      "source": [
        "# Циклы for и while"
      ],
      "metadata": {
        "id": "p7cioZwmX1ZT"
      }
    },
    {
      "cell_type": "markdown",
      "source": [
        "## Базовый цикл while"
      ],
      "metadata": {
        "id": "4VhbKsBRX5TY"
      }
    },
    {
      "cell_type": "code",
      "execution_count": null,
      "metadata": {
        "id": "ZEYKFWEHXwkW"
      },
      "outputs": [],
      "source": [
        "while {условие}:\n",
        "  ..."
      ]
    },
    {
      "cell_type": "code",
      "source": [
        "i = 0\n",
        "\n",
        "while i < 15:\n",
        "  i += 1\n",
        "  print(i)"
      ],
      "metadata": {
        "colab": {
          "base_uri": "https://localhost:8080/"
        },
        "id": "_T1ASNaeZX7j",
        "outputId": "6d017481-eeed-4a8e-80e2-5a8a69475951"
      },
      "execution_count": null,
      "outputs": [
        {
          "output_type": "stream",
          "name": "stdout",
          "text": [
            "1\n",
            "2\n",
            "3\n",
            "4\n",
            "5\n",
            "6\n",
            "7\n",
            "8\n",
            "9\n",
            "10\n",
            "11\n",
            "12\n",
            "13\n",
            "14\n",
            "15\n"
          ]
        }
      ]
    },
    {
      "cell_type": "code",
      "source": [
        "is_num_big = True\n",
        "a = 10000\n",
        "\n",
        "while is_num_big:\n",
        "  a /= 2\n",
        "  if a < 100:\n",
        "    is_num_big = False\n",
        "\n",
        "print(a)"
      ],
      "metadata": {
        "colab": {
          "base_uri": "https://localhost:8080/"
        },
        "id": "NUwenDRdaPWz",
        "outputId": "58da510e-85fc-419f-ca58-47ad69934402"
      },
      "execution_count": null,
      "outputs": [
        {
          "output_type": "stream",
          "name": "stdout",
          "text": [
            "78.125\n"
          ]
        }
      ]
    },
    {
      "cell_type": "code",
      "source": [
        "def check_is_num_big(a):\n",
        "  if a >= 100:\n",
        "    return True\n",
        "  return False\n",
        "\n",
        "a = 10000\n",
        "\n",
        "while check_is_num_big(a):\n",
        "  a /= 2\n",
        "\n",
        "print(a)"
      ],
      "metadata": {
        "colab": {
          "base_uri": "https://localhost:8080/"
        },
        "id": "FCShSK6Cas8P",
        "outputId": "e81d9bf6-c50c-4bdd-97f1-48890a3377ed"
      },
      "execution_count": null,
      "outputs": [
        {
          "output_type": "stream",
          "name": "stdout",
          "text": [
            "78.125\n"
          ]
        }
      ]
    },
    {
      "cell_type": "code",
      "source": [
        "arr = [1, 2, 3]\n",
        "\n",
        "while arr:\n",
        "  print(arr.pop(0))"
      ],
      "metadata": {
        "colab": {
          "base_uri": "https://localhost:8080/"
        },
        "id": "LHwLqIybbFtK",
        "outputId": "e53c39c6-678d-4033-9cb5-7fddcc768a89"
      },
      "execution_count": null,
      "outputs": [
        {
          "output_type": "stream",
          "name": "stdout",
          "text": [
            "1\n",
            "2\n",
            "3\n"
          ]
        }
      ]
    },
    {
      "cell_type": "code",
      "source": [
        "arr"
      ],
      "metadata": {
        "colab": {
          "base_uri": "https://localhost:8080/"
        },
        "id": "I23TmVMpbMSo",
        "outputId": "81639561-373e-4b9b-82eb-ceb55a54059c"
      },
      "execution_count": null,
      "outputs": [
        {
          "output_type": "execute_result",
          "data": {
            "text/plain": [
              "[]"
            ]
          },
          "metadata": {},
          "execution_count": 7
        }
      ]
    },
    {
      "cell_type": "code",
      "source": [
        "while True:\n",
        "  ..."
      ],
      "metadata": {
        "id": "XXQnHDAjbmhS"
      },
      "execution_count": null,
      "outputs": []
    },
    {
      "cell_type": "markdown",
      "source": [
        "## Базовый цикл for"
      ],
      "metadata": {
        "id": "JbjgWGuJX-zU"
      }
    },
    {
      "cell_type": "code",
      "source": [
        "arr = [1, 2, 3, 4, 5]\n",
        "\n",
        "for el in arr:\n",
        "  print(el)"
      ],
      "metadata": {
        "colab": {
          "base_uri": "https://localhost:8080/"
        },
        "id": "ghA2Ny-7YEiW",
        "outputId": "99a49074-b458-405e-b08e-b95c52de9d44"
      },
      "execution_count": null,
      "outputs": [
        {
          "output_type": "stream",
          "name": "stdout",
          "text": [
            "1\n",
            "2\n",
            "3\n",
            "4\n",
            "5\n"
          ]
        }
      ]
    },
    {
      "cell_type": "markdown",
      "source": [
        "## Разные сценарии использования цикла for"
      ],
      "metadata": {
        "id": "nn312ZJoYD3U"
      }
    },
    {
      "cell_type": "code",
      "source": [
        "for i in range(len(arr)):\n",
        "  print(arr[i])"
      ],
      "metadata": {
        "id": "0mOh-kk2YH1d"
      },
      "execution_count": null,
      "outputs": []
    },
    {
      "cell_type": "code",
      "source": [
        "i = 0\n",
        "\n",
        "for el in arr:\n",
        "  print(f'Элемент массива arr с индексом {i} равен {el}')\n",
        "  i += 1"
      ],
      "metadata": {
        "colab": {
          "base_uri": "https://localhost:8080/"
        },
        "id": "vE3dc5yacgzX",
        "outputId": "9d1d464a-7670-401f-d879-09c50a0862f6"
      },
      "execution_count": null,
      "outputs": [
        {
          "output_type": "stream",
          "name": "stdout",
          "text": [
            "Элемент массива arr с индексом 0 равен 1\n",
            "Элемент массива arr с индексом 1 равен 2\n",
            "Элемент массива arr с индексом 2 равен 3\n",
            "Элемент массива arr с индексом 3 равен 4\n",
            "Элемент массива arr с индексом 4 равен 5\n"
          ]
        }
      ]
    },
    {
      "cell_type": "code",
      "source": [
        "arr = ['a', 'b', 'c', 'd', 'e']\n",
        "\n",
        "list(enumerate(arr))"
      ],
      "metadata": {
        "colab": {
          "base_uri": "https://localhost:8080/"
        },
        "id": "C_OS2ggncyvY",
        "outputId": "48b8eea4-0282-4571-c42d-4641515f455d"
      },
      "execution_count": null,
      "outputs": [
        {
          "output_type": "execute_result",
          "data": {
            "text/plain": [
              "[(0, 'a'), (1, 'b'), (2, 'c'), (3, 'd'), (4, 'e')]"
            ]
          },
          "metadata": {},
          "execution_count": 12
        }
      ]
    },
    {
      "cell_type": "code",
      "source": [
        "for i, el in enumerate(arr):\n",
        "  print(f'Элемент массива arr с индексом {i} равен {el}')"
      ],
      "metadata": {
        "colab": {
          "base_uri": "https://localhost:8080/"
        },
        "id": "ntlHYY_3c-Lu",
        "outputId": "0db6e591-5210-40f0-994e-522915e9af3d"
      },
      "execution_count": null,
      "outputs": [
        {
          "output_type": "stream",
          "name": "stdout",
          "text": [
            "Элемент массива arr с индексом 0 равен a\n",
            "Элемент массива arr с индексом 1 равен b\n",
            "Элемент массива arr с индексом 2 равен c\n",
            "Элемент массива arr с индексом 3 равен d\n",
            "Элемент массива arr с индексом 4 равен e\n"
          ]
        }
      ]
    },
    {
      "cell_type": "code",
      "source": [
        "for i, el in enumerate(arr):\n",
        "  prev = arr[i-1] if i != 0 else None\n",
        "  print(f'Текущий = {el}, предыдущий - {prev}')"
      ],
      "metadata": {
        "colab": {
          "base_uri": "https://localhost:8080/"
        },
        "id": "bqCKDeMJdeI6",
        "outputId": "6c4b45ac-ec89-4a31-98d4-0c5c01a3e995"
      },
      "execution_count": null,
      "outputs": [
        {
          "output_type": "stream",
          "name": "stdout",
          "text": [
            "Текущий = 1, предыдущий - None\n",
            "Текущий = 2, предыдущий - 1\n",
            "Текущий = 3, предыдущий - 2\n",
            "Текущий = 4, предыдущий - 3\n",
            "Текущий = string, предыдущий - 4\n",
            "Текущий = [1, 2, 3], предыдущий - string\n",
            "Текущий = 4, предыдущий - [1, 2, 3]\n",
            "Текущий = 6, предыдущий - 4\n"
          ]
        }
      ]
    },
    {
      "cell_type": "code",
      "source": [
        "names = ['Андрон', 'Лиза', 'Максим', 'Никита']\n",
        "cars = ['Ford', 'Opel', 'Bentley', 'Mercedes']\n",
        "colors = ['синий', 'белый', 'зеленый', 'красный']\n",
        "\n",
        "for i in range(len(names)):\n",
        "  print(f'У {names[i]} машина {cars[i]} и любимый цвет {colors[i]}')"
      ],
      "metadata": {
        "colab": {
          "base_uri": "https://localhost:8080/"
        },
        "id": "6OFx-VgueD_M",
        "outputId": "70d5bb07-a6b0-4e1f-edb4-94c68e9f9c26"
      },
      "execution_count": null,
      "outputs": [
        {
          "output_type": "stream",
          "name": "stdout",
          "text": [
            "У Андрон машина Ford и любимый цвет синий\n",
            "У Лиза машина Opel и любимый цвет белый\n",
            "У Максим машина Bentley и любимый цвет зеленый\n",
            "У Никита машина Mercedes и любимый цвет красный\n"
          ]
        }
      ]
    },
    {
      "cell_type": "code",
      "source": [
        "for name, car, color in zip(names, cars, colors):\n",
        "  print(f'У {name} машина {car} и любимый цвет {color}')"
      ],
      "metadata": {
        "colab": {
          "base_uri": "https://localhost:8080/"
        },
        "id": "QCPREQU7ejkL",
        "outputId": "2adc7b68-5472-46d8-8a33-630935f40973"
      },
      "execution_count": null,
      "outputs": [
        {
          "output_type": "stream",
          "name": "stdout",
          "text": [
            "У Андрон машина Ford и любимый цвет синий\n",
            "У Лиза машина Opel и любимый цвет белый\n",
            "У Максим машина Bentley и любимый цвет зеленый\n",
            "У Никита машина Mercedes и любимый цвет красный\n"
          ]
        }
      ]
    },
    {
      "cell_type": "markdown",
      "source": [
        "## Оператор continue"
      ],
      "metadata": {
        "id": "R0D59wiyYH6O"
      }
    },
    {
      "cell_type": "code",
      "source": [
        "arr = [1, 2, 3, 4, 'string', [1, 2, 3], 4, 6]\n",
        "\n",
        "for el in arr:\n",
        "  if not isinstance(el, int):\n",
        "    continue\n",
        "  ...\n",
        "  ...\n",
        "  ...\n",
        "  ...\n",
        "  print(el**2)"
      ],
      "metadata": {
        "colab": {
          "base_uri": "https://localhost:8080/"
        },
        "id": "JLbm2ikOYMdA",
        "outputId": "6a57e467-00d7-4979-bc7c-97948cfb185d"
      },
      "execution_count": null,
      "outputs": [
        {
          "output_type": "stream",
          "name": "stdout",
          "text": [
            "1\n",
            "4\n",
            "9\n",
            "16\n",
            "16\n",
            "36\n"
          ]
        }
      ]
    },
    {
      "cell_type": "markdown",
      "source": [
        "## Оператор break"
      ],
      "metadata": {
        "id": "ISuUZeQwYMmr"
      }
    },
    {
      "cell_type": "code",
      "source": [
        "arr = [1, 2, 3, 4, 'string', [1, 2, 3], 4, 6]\n",
        "\n",
        "for el in arr:\n",
        "  if not isinstance(el, int):\n",
        "    print('Нашелся мусорный элемент!!!!')\n",
        "    break\n",
        "  print(el**2)"
      ],
      "metadata": {
        "colab": {
          "base_uri": "https://localhost:8080/"
        },
        "id": "GHVb3I5qYO0h",
        "outputId": "bab2c9ea-aa83-4b53-8fdd-6070fb20ccf2"
      },
      "execution_count": null,
      "outputs": [
        {
          "output_type": "stream",
          "name": "stdout",
          "text": [
            "1\n",
            "4\n",
            "9\n",
            "16\n",
            "Нашелся мусорный элемент!!!!\n"
          ]
        }
      ]
    },
    {
      "cell_type": "code",
      "source": [
        "i = 0\n",
        "\n",
        "while True:\n",
        "  i += 1\n",
        "  if i == 10:\n",
        "    print(i)\n",
        "    break"
      ],
      "metadata": {
        "colab": {
          "base_uri": "https://localhost:8080/"
        },
        "id": "bijEPsjtgGpX",
        "outputId": "a892a6da-7228-46cd-9617-2305d961c6dc"
      },
      "execution_count": null,
      "outputs": [
        {
          "output_type": "stream",
          "name": "stdout",
          "text": [
            "10\n"
          ]
        }
      ]
    },
    {
      "cell_type": "markdown",
      "source": [
        "## Оператор else"
      ],
      "metadata": {
        "id": "MUDZ-Jd8YO8m"
      }
    },
    {
      "cell_type": "code",
      "source": [
        "i = 0\n",
        "\n",
        "while i < 10:\n",
        "  i += 1\n",
        "  print(i)\n",
        "else:\n",
        "  print('Блок с else')"
      ],
      "metadata": {
        "colab": {
          "base_uri": "https://localhost:8080/"
        },
        "id": "7tmAHgHkYR9C",
        "outputId": "ff6e0769-353f-46c6-adfb-b6ef213db103"
      },
      "execution_count": null,
      "outputs": [
        {
          "output_type": "stream",
          "name": "stdout",
          "text": [
            "1\n",
            "2\n",
            "3\n",
            "4\n",
            "5\n",
            "6\n",
            "7\n",
            "8\n",
            "9\n",
            "10\n",
            "Блок с else\n"
          ]
        }
      ]
    },
    {
      "cell_type": "code",
      "source": [
        "i = 0\n",
        "\n",
        "while i < 10:\n",
        "  i += 1\n",
        "  print(i)\n",
        "  if i == 5:\n",
        "    break\n",
        "else:\n",
        "  print('Блок с else')"
      ],
      "metadata": {
        "colab": {
          "base_uri": "https://localhost:8080/"
        },
        "id": "80VBPu4kg_Xq",
        "outputId": "281811a5-888f-45b2-b9f0-ee6178ee29be"
      },
      "execution_count": null,
      "outputs": [
        {
          "output_type": "stream",
          "name": "stdout",
          "text": [
            "1\n",
            "2\n",
            "3\n",
            "4\n",
            "5\n"
          ]
        }
      ]
    },
    {
      "cell_type": "code",
      "source": [
        "for el in arr:\n",
        "  print(el)\n",
        "  if not isinstance(el, int):\n",
        "    break\n",
        "else:\n",
        "  print('Цикл закончился сам')"
      ],
      "metadata": {
        "colab": {
          "base_uri": "https://localhost:8080/"
        },
        "id": "iRktWUWIhWOW",
        "outputId": "392782f2-b2bf-42c6-dd6c-97345f449e16"
      },
      "execution_count": null,
      "outputs": [
        {
          "output_type": "stream",
          "name": "stdout",
          "text": [
            "1\n",
            "2\n",
            "3\n",
            "4\n",
            "string\n"
          ]
        }
      ]
    },
    {
      "cell_type": "code",
      "source": [
        "def foo():\n",
        "  i = 0\n",
        "  while i != 5:\n",
        "    i += 1\n",
        "    print(i)\n",
        "    if i == 3:\n",
        "      return\n",
        "  else:\n",
        "    print('Цикл закончился сам')\n",
        "\n",
        "foo()"
      ],
      "metadata": {
        "colab": {
          "base_uri": "https://localhost:8080/"
        },
        "id": "IPHeIVX4hi1w",
        "outputId": "5fe6b0ef-dfc1-4c46-e1b2-e00d0705831b"
      },
      "execution_count": null,
      "outputs": [
        {
          "output_type": "stream",
          "name": "stdout",
          "text": [
            "1\n",
            "2\n",
            "3\n"
          ]
        }
      ]
    },
    {
      "cell_type": "code",
      "source": [
        "for i, el in enumerate(arr, start=1):\n",
        "  print(f'Элемент {i} равен {el}')"
      ],
      "metadata": {
        "colab": {
          "base_uri": "https://localhost:8080/"
        },
        "id": "PmGkcEgKiHL9",
        "outputId": "f14c07cb-3b1b-4d8a-91de-b4a740ddad0e"
      },
      "execution_count": null,
      "outputs": [
        {
          "output_type": "stream",
          "name": "stdout",
          "text": [
            "Элемент 1 равен 1\n",
            "Элемент 2 равен 2\n",
            "Элемент 3 равен 3\n",
            "Элемент 4 равен 4\n",
            "Элемент 5 равен string\n",
            "Элемент 6 равен [1, 2, 3]\n",
            "Элемент 7 равен 4\n",
            "Элемент 8 равен 6\n"
          ]
        }
      ]
    }
  ]
}