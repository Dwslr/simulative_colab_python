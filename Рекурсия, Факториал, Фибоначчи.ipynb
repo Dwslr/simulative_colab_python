{
  "nbformat": 4,
  "nbformat_minor": 0,
  "metadata": {
    "colab": {
      "provenance": [],
      "include_colab_link": true
    },
    "kernelspec": {
      "name": "python3",
      "display_name": "Python 3"
    },
    "language_info": {
      "name": "python"
    }
  },
  "cells": [
    {
      "cell_type": "markdown",
      "metadata": {
        "id": "view-in-github",
        "colab_type": "text"
      },
      "source": [
        "<a href=\"https://colab.research.google.com/github/Dwslr/simulative_colab_python/blob/main/%D0%A0%D0%B5%D0%BA%D1%83%D1%80%D1%81%D0%B8%D1%8F%2C%20%D0%A4%D0%B0%D0%BA%D1%82%D0%BE%D1%80%D0%B8%D0%B0%D0%BB%2C%20%D0%A4%D0%B8%D0%B1%D0%BE%D0%BD%D0%B0%D1%87%D1%87%D0%B8.ipynb\" target=\"_parent\"><img src=\"https://colab.research.google.com/assets/colab-badge.svg\" alt=\"Open In Colab\"/></a>"
      ]
    },
    {
      "cell_type": "markdown",
      "source": [
        "# Рекурсия"
      ],
      "metadata": {
        "id": "zb-RcdugEE3J"
      }
    },
    {
      "cell_type": "markdown",
      "source": [
        "## Факториал"
      ],
      "metadata": {
        "id": "Hols47Z9EHaB"
      }
    },
    {
      "cell_type": "code",
      "source": [
        "def factorial(n):\n",
        "  res = 1\n",
        "  for i in range(1, n+1):\n",
        "    res *= i\n",
        "  return res"
      ],
      "metadata": {
        "id": "dIpLwb1nEwUI"
      },
      "execution_count": null,
      "outputs": []
    },
    {
      "cell_type": "code",
      "source": [
        "factorial(30)"
      ],
      "metadata": {
        "colab": {
          "base_uri": "https://localhost:8080/"
        },
        "id": "LF2BRDDfGxci",
        "outputId": "4f1ada83-70bb-4b2a-fc72-cb616af20e37"
      },
      "execution_count": null,
      "outputs": [
        {
          "output_type": "execute_result",
          "data": {
            "text/plain": [
              "265252859812191058636308480000000"
            ]
          },
          "metadata": {},
          "execution_count": 31
        }
      ]
    },
    {
      "cell_type": "code",
      "source": [
        "5! = 4!*5\n",
        "n! = (n-1)!*n"
      ],
      "metadata": {
        "id": "ajsSAOxHG6HF"
      },
      "execution_count": null,
      "outputs": []
    },
    {
      "cell_type": "code",
      "source": [
        "def factorial2(n):\n",
        "  if n == 1:\n",
        "    return 1\n",
        "  return factorial2(n-1) * n"
      ],
      "metadata": {
        "id": "RmVkBwvLG-mo"
      },
      "execution_count": null,
      "outputs": []
    },
    {
      "cell_type": "code",
      "source": [
        "factorial2(5)"
      ],
      "metadata": {
        "colab": {
          "base_uri": "https://localhost:8080/"
        },
        "id": "J--uaYRdHT3V",
        "outputId": "6252fae6-5f6c-49c0-f7eb-c7a3dfed88a7"
      },
      "execution_count": null,
      "outputs": [
        {
          "output_type": "execute_result",
          "data": {
            "text/plain": [
              "120"
            ]
          },
          "metadata": {},
          "execution_count": 30
        }
      ]
    },
    {
      "cell_type": "markdown",
      "source": [
        "## Числа Фибоначчи\n",
        "\n",
        "\n"
      ],
      "metadata": {
        "id": "QA5d9YYCEKrg"
      }
    },
    {
      "cell_type": "code",
      "source": [
        "def fib(n):\n",
        "  if n == 1:\n",
        "    return 0\n",
        "  if n == 2:\n",
        "    return 1\n",
        "  a, b = 0, 1\n",
        "  cnt = 2\n",
        "\n",
        "  while cnt <= n:\n",
        "    a, b = b, a+b\n",
        "    cnt += 1\n",
        "\n",
        "  return a"
      ],
      "metadata": {
        "id": "jirxapFBFq0v"
      },
      "execution_count": null,
      "outputs": []
    },
    {
      "cell_type": "code",
      "source": [
        "for i in range(1, 10):\n",
        "  print(fib(i))"
      ],
      "metadata": {
        "colab": {
          "base_uri": "https://localhost:8080/"
        },
        "id": "jRGGNsSQIXC8",
        "outputId": "4f737c83-78f0-4f83-d1c0-3ef2f1ff54da"
      },
      "execution_count": null,
      "outputs": [
        {
          "output_type": "stream",
          "name": "stdout",
          "text": [
            "0\n",
            "1\n",
            "1\n",
            "2\n",
            "3\n",
            "5\n",
            "8\n",
            "13\n",
            "21\n"
          ]
        }
      ]
    },
    {
      "cell_type": "code",
      "source": [],
      "metadata": {
        "id": "tn4HxQVvJgIs"
      },
      "execution_count": null,
      "outputs": []
    },
    {
      "cell_type": "code",
      "source": [
        "fib(n) = fib(n-1) + fib(n-2)"
      ],
      "metadata": {
        "id": "bJSJHKxIJQ_P"
      },
      "execution_count": null,
      "outputs": []
    },
    {
      "cell_type": "code",
      "source": [
        "def fib2(n):\n",
        "  if n == 1:\n",
        "    return 0\n",
        "  if n == 2:\n",
        "    return 1\n",
        "  return fib2(n-1) + fib2(n-2)"
      ],
      "metadata": {
        "id": "c3pLrQxlJWUK"
      },
      "execution_count": null,
      "outputs": []
    },
    {
      "cell_type": "code",
      "source": [
        "for i in range(1, 10):\n",
        "  print(fib2(i))"
      ],
      "metadata": {
        "id": "nX47Mz4FJg_x",
        "outputId": "dd3a6499-e31f-49da-e6aa-7aeb39d771e1",
        "colab": {
          "base_uri": "https://localhost:8080/"
        }
      },
      "execution_count": null,
      "outputs": [
        {
          "output_type": "stream",
          "name": "stdout",
          "text": [
            "0\n",
            "1\n",
            "1\n",
            "2\n",
            "3\n",
            "5\n",
            "8\n",
            "13\n",
            "21\n"
          ]
        }
      ]
    }
  ]
}