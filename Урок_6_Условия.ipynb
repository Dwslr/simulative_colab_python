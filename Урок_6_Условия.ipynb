{
  "nbformat": 4,
  "nbformat_minor": 0,
  "metadata": {
    "colab": {
      "provenance": [],
      "include_colab_link": true
    },
    "kernelspec": {
      "name": "python3",
      "display_name": "Python 3"
    },
    "language_info": {
      "name": "python"
    }
  },
  "cells": [
    {
      "cell_type": "markdown",
      "metadata": {
        "id": "view-in-github",
        "colab_type": "text"
      },
      "source": [
        "<a href=\"https://colab.research.google.com/github/Dwslr/simulative_colab_python/blob/main/%D0%A3%D1%80%D0%BE%D0%BA_6_%D0%A3%D1%81%D0%BB%D0%BE%D0%B2%D0%B8%D1%8F.ipynb\" target=\"_parent\"><img src=\"https://colab.research.google.com/assets/colab-badge.svg\" alt=\"Open In Colab\"/></a>"
      ]
    },
    {
      "cell_type": "markdown",
      "source": [
        "# Условный оператор"
      ],
      "metadata": {
        "id": "4cVNcxxBKc3-"
      }
    },
    {
      "cell_type": "markdown",
      "source": [
        "## Условие \"если\""
      ],
      "metadata": {
        "id": "CtzhWHf0Kg9R"
      }
    },
    {
      "cell_type": "code",
      "execution_count": null,
      "metadata": {
        "id": "Na5j3N4VKauy"
      },
      "outputs": [],
      "source": [
        "if {{condition}}:\n",
        "  ..."
      ]
    },
    {
      "cell_type": "code",
      "source": [
        "a = 10\n",
        "\n",
        "if a > 5:\n",
        "  print(f\"Переменная a равняется {a}\")\n",
        "\n",
        "if a > 15:\n",
        "  print(f\"Эта ветка не сработает\")"
      ],
      "metadata": {
        "colab": {
          "base_uri": "https://localhost:8080/"
        },
        "id": "oREXYzAgBX_b",
        "outputId": "0b606186-018f-4e4c-b8f0-9c1ec33adc90"
      },
      "execution_count": null,
      "outputs": [
        {
          "output_type": "stream",
          "name": "stdout",
          "text": [
            "Переменная a равняется 10\n"
          ]
        }
      ]
    },
    {
      "cell_type": "markdown",
      "source": [
        "## Условие \"если - то\""
      ],
      "metadata": {
        "id": "ZpN_i7pvKkku"
      }
    },
    {
      "cell_type": "code",
      "source": [
        "if {{condition}}:\n",
        "  ...\n",
        "else:\n",
        "  ..."
      ],
      "metadata": {
        "id": "VoxAtv5GKnD_"
      },
      "execution_count": null,
      "outputs": []
    },
    {
      "cell_type": "code",
      "source": [
        "a = 2\n",
        "\n",
        "if a > 5:\n",
        "  print(\"Большое число\")\n",
        "else:\n",
        "  print(\"Маленькое число\")"
      ],
      "metadata": {
        "colab": {
          "base_uri": "https://localhost:8080/"
        },
        "id": "LK2u-wrWB_EU",
        "outputId": "b9ba0cc6-efc5-4a8d-a8de-2275bd203ab8"
      },
      "execution_count": null,
      "outputs": [
        {
          "output_type": "stream",
          "name": "stdout",
          "text": [
            "Маленькое число\n"
          ]
        }
      ]
    },
    {
      "cell_type": "code",
      "source": [
        "a = 10\n",
        "\n",
        "if a > 5:\n",
        "  print(\"Большое число\")\n",
        "\n",
        "if a > 8:\n",
        "  print(\"Очень большое число\")"
      ],
      "metadata": {
        "colab": {
          "base_uri": "https://localhost:8080/"
        },
        "id": "H7tDH-ayCOjn",
        "outputId": "a60437f3-7e30-4a2f-fb4b-789b1ac1f078"
      },
      "execution_count": null,
      "outputs": [
        {
          "output_type": "stream",
          "name": "stdout",
          "text": [
            "Большое число\n",
            "Очень большое число\n"
          ]
        }
      ]
    },
    {
      "cell_type": "code",
      "source": [
        "if a > 5:\n",
        "  print(\"Большое число\")\n",
        "else:\n",
        "  print(\"Очень большое число\")"
      ],
      "metadata": {
        "id": "1jOHG_4BC9Vt"
      },
      "execution_count": null,
      "outputs": []
    },
    {
      "cell_type": "markdown",
      "source": [
        "## Условие \"если - иначе - то\""
      ],
      "metadata": {
        "id": "kOHeYEnTKnMu"
      }
    },
    {
      "cell_type": "code",
      "source": [
        "if - elif - else\n",
        "\n",
        "else if ..."
      ],
      "metadata": {
        "id": "BVWcJ5hfKp3u"
      },
      "execution_count": null,
      "outputs": []
    },
    {
      "cell_type": "code",
      "source": [
        "a = 30\n",
        "\n",
        "if a < 5:\n",
        "  print(\"Маленькое число\")\n",
        "elif a < 10:\n",
        "  print(\"Среднее число\")\n",
        "elif a < 20:\n",
        "  print(\"Приличное число\")\n",
        "else:\n",
        "  print(\"Реально большое число\")"
      ],
      "metadata": {
        "colab": {
          "base_uri": "https://localhost:8080/"
        },
        "id": "w2WiItLNDcIt",
        "outputId": "590bbb24-24e8-4265-d989-caa912731575"
      },
      "execution_count": null,
      "outputs": [
        {
          "output_type": "stream",
          "name": "stdout",
          "text": [
            "Реально большое число\n"
          ]
        }
      ]
    },
    {
      "cell_type": "code",
      "source": [
        "a = 30\n",
        "\n",
        "if a < 5:\n",
        "  print(\"Маленькое число\")\n",
        "elif a >= 5 and a < 10:\n",
        "  print(\"Среднее число\")\n",
        "elif a >= 10 and a < 20:\n",
        "  print(\"Приличное число\")\n",
        "else:\n",
        "  print(\"Реально большое число\")"
      ],
      "metadata": {
        "colab": {
          "base_uri": "https://localhost:8080/"
        },
        "id": "rH7ehsL1D8GR",
        "outputId": "9e23292d-64a8-4df9-f5ef-0f4525615c82"
      },
      "execution_count": null,
      "outputs": [
        {
          "output_type": "stream",
          "name": "stdout",
          "text": [
            "Реально большое число\n"
          ]
        }
      ]
    },
    {
      "cell_type": "markdown",
      "source": [
        "## Использование в функциях"
      ],
      "metadata": {
        "id": "h2DLQM5zLDCd"
      }
    },
    {
      "cell_type": "code",
      "source": [
        "def number_estimate(a):\n",
        "  if a < 5:\n",
        "    return \"Маленькое число\"\n",
        "  elif a < 10:\n",
        "    return \"Среднее число\"\n",
        "  elif a < 20:\n",
        "    return \"Приличное число\"\n",
        "  else:\n",
        "    return \"Реально большое число\"\n",
        "\n",
        "print(number_estimate(10))\n",
        "print(number_estimate(2))\n",
        "print(number_estimate(50))"
      ],
      "metadata": {
        "id": "UVVv1hgULGBu",
        "colab": {
          "base_uri": "https://localhost:8080/"
        },
        "outputId": "c0bb1a61-18c2-4d2e-c176-72fb310a82bd"
      },
      "execution_count": null,
      "outputs": [
        {
          "output_type": "stream",
          "name": "stdout",
          "text": [
            "Приличное число\n",
            "Маленькое число\n",
            "Реально большое число\n"
          ]
        }
      ]
    },
    {
      "cell_type": "markdown",
      "source": [
        "## Комбинирование условий"
      ],
      "metadata": {
        "id": "DtTpzynPLGK0"
      }
    },
    {
      "cell_type": "code",
      "source": [
        "a = 2\n",
        "b = 100\n",
        "c = 50\n",
        "\n",
        "if a > 5 and b > 10 and c > 15:\n",
        "  print(\"Все числа большие\")\n",
        "else:\n",
        "  print(\"Не получилось :(\")"
      ],
      "metadata": {
        "id": "DXKnlEQ_LIB8",
        "colab": {
          "base_uri": "https://localhost:8080/"
        },
        "outputId": "4362d698-a545-431d-de58-fd2325d780e3"
      },
      "execution_count": null,
      "outputs": [
        {
          "output_type": "stream",
          "name": "stdout",
          "text": [
            "Не получилось :(\n"
          ]
        }
      ]
    },
    {
      "cell_type": "code",
      "source": [
        "a = 2\n",
        "b = 1\n",
        "c = 1\n",
        "\n",
        "if a > 5 or b > 10 or c > 15:\n",
        "  print(\"Хотя бы одно число большое, ура!\")\n",
        "else:\n",
        "  print(\"Не получилось :(\")"
      ],
      "metadata": {
        "colab": {
          "base_uri": "https://localhost:8080/"
        },
        "id": "3wcLO3MQFvdp",
        "outputId": "f6452542-21e2-48f3-9dcf-69d872f7b42c"
      },
      "execution_count": null,
      "outputs": [
        {
          "output_type": "stream",
          "name": "stdout",
          "text": [
            "Не получилось :(\n"
          ]
        }
      ]
    },
    {
      "cell_type": "code",
      "source": [
        "a = 3\n",
        "b = 100\n",
        "c = 1\n",
        "\n",
        "if a > 5 or (b > 10 and c > 15):\n",
        "  print(\"Кажется получилось\")\n",
        "else:\n",
        "  print(\"Не получилось :(\")"
      ],
      "metadata": {
        "colab": {
          "base_uri": "https://localhost:8080/"
        },
        "id": "UA5YZpPNF_e-",
        "outputId": "320384b6-13c9-4393-f51d-589964c8d3cb"
      },
      "execution_count": null,
      "outputs": [
        {
          "output_type": "stream",
          "name": "stdout",
          "text": [
            "Не получилось :(\n"
          ]
        }
      ]
    },
    {
      "cell_type": "code",
      "source": [
        "a = 3\n",
        "b = 100\n",
        "c = 1\n",
        "d = 10\n",
        "\n",
        "if (a > 5 and b > 10) or (c > 15 and d > 100):\n",
        "  print(\"Кажется получилось\")\n",
        "else:\n",
        "  print(\"Не получилось :(\")"
      ],
      "metadata": {
        "id": "5WarYKmjGoK5"
      },
      "execution_count": null,
      "outputs": []
    },
    {
      "cell_type": "code",
      "source": [
        "a = 3\n",
        "b = 100\n",
        "c = 1\n",
        "d = 10\n",
        "\n",
        "if (a > 5 and b > 10 or c > 15) and d > 100:\n",
        "  print(\"Кажется получилось\")\n",
        "else:\n",
        "  print(\"Не получилось :(\")"
      ],
      "metadata": {
        "id": "8DGO8s1BG7QN"
      },
      "execution_count": null,
      "outputs": []
    },
    {
      "cell_type": "markdown",
      "source": [
        "## Тернарный оператор"
      ],
      "metadata": {
        "id": "gUYxbUGP-X7T"
      }
    },
    {
      "cell_type": "code",
      "source": [
        "def pow(a, n):\n",
        "  return a**n if n else a"
      ],
      "metadata": {
        "id": "T2aucsa--apA"
      },
      "execution_count": null,
      "outputs": []
    },
    {
      "cell_type": "code",
      "source": [
        "def pow(a, n):\n",
        "  if n:\n",
        "    return a**n\n",
        "  else:\n",
        "    return a"
      ],
      "metadata": {
        "id": "pfuBGNIzHtuc"
      },
      "execution_count": null,
      "outputs": []
    },
    {
      "cell_type": "code",
      "source": [
        "def pow(a, n):\n",
        "  if bool(n) is True:\n",
        "    return a**n\n",
        "  else:\n",
        "    return a"
      ],
      "metadata": {
        "id": "XYRJdRqMJlZ6"
      },
      "execution_count": null,
      "outputs": []
    },
    {
      "cell_type": "code",
      "source": [
        "def pow(a, n):\n",
        "  is_null = False\n",
        "\n",
        "  if n == 0 or n is None:\n",
        "    is_null = True\n",
        "\n",
        "  if is_null:\n",
        "    return a\n",
        "  else:\n",
        "    return a**n"
      ],
      "metadata": {
        "id": "mutSw0w0J0cw"
      },
      "execution_count": null,
      "outputs": []
    },
    {
      "cell_type": "code",
      "source": [
        "pow(3, None)"
      ],
      "metadata": {
        "colab": {
          "base_uri": "https://localhost:8080/"
        },
        "id": "l-J7Ch7QKJqW",
        "outputId": "59a1c057-ffda-4807-e053-02cb8dd3e9cd"
      },
      "execution_count": null,
      "outputs": [
        {
          "output_type": "execute_result",
          "data": {
            "text/plain": [
              "3"
            ]
          },
          "metadata": {},
          "execution_count": 44
        }
      ]
    },
    {
      "cell_type": "code",
      "source": [
        "a > 5"
      ],
      "metadata": {
        "colab": {
          "base_uri": "https://localhost:8080/"
        },
        "id": "dFiHfAKXI9Pm",
        "outputId": "057a1fc5-3e67-48a3-a16a-fb462e8b754f"
      },
      "execution_count": null,
      "outputs": [
        {
          "output_type": "execute_result",
          "data": {
            "text/plain": [
              "False"
            ]
          },
          "metadata": {},
          "execution_count": 28
        }
      ]
    },
    {
      "cell_type": "code",
      "source": [
        "if {condition (булевское значение)}"
      ],
      "metadata": {
        "id": "Xa3dN_ddJATg"
      },
      "execution_count": null,
      "outputs": []
    },
    {
      "cell_type": "code",
      "source": [
        "bool(['a'])"
      ],
      "metadata": {
        "colab": {
          "base_uri": "https://localhost:8080/"
        },
        "id": "VTbzDii4JNTU",
        "outputId": "09895717-9190-4ca2-fb8b-834a71ae613e"
      },
      "execution_count": null,
      "outputs": [
        {
          "output_type": "execute_result",
          "data": {
            "text/plain": [
              "True"
            ]
          },
          "metadata": {},
          "execution_count": 38
        }
      ]
    },
    {
      "cell_type": "code",
      "source": [
        "s = 'abc'\n",
        "\n",
        "if s:\n",
        "  print('Не пусто')"
      ],
      "metadata": {
        "colab": {
          "base_uri": "https://localhost:8080/"
        },
        "id": "cgOawLHsJTrW",
        "outputId": "15c8403a-dc1c-487a-b54d-dc403f1cc3fc"
      },
      "execution_count": null,
      "outputs": [
        {
          "output_type": "stream",
          "name": "stdout",
          "text": [
            "Не пусто\n"
          ]
        }
      ]
    },
    {
      "cell_type": "code",
      "source": [
        "pow(3, 0)"
      ],
      "metadata": {
        "colab": {
          "base_uri": "https://localhost:8080/"
        },
        "id": "BIwzdSxSHYjS",
        "outputId": "1b6b5d6b-c8eb-4a41-fad5-a669f0e1ea14"
      },
      "execution_count": null,
      "outputs": [
        {
          "output_type": "execute_result",
          "data": {
            "text/plain": [
              "3"
            ]
          },
          "metadata": {},
          "execution_count": 36
        }
      ]
    },
    {
      "cell_type": "code",
      "source": [
        "3*3*3*3*3"
      ],
      "metadata": {
        "colab": {
          "base_uri": "https://localhost:8080/"
        },
        "id": "zEZ6c-y9HfbO",
        "outputId": "779f39d7-e5a6-467e-b0b7-cd551a26b799"
      },
      "execution_count": null,
      "outputs": [
        {
          "output_type": "execute_result",
          "data": {
            "text/plain": [
              "243"
            ]
          },
          "metadata": {},
          "execution_count": 26
        }
      ]
    },
    {
      "cell_type": "code",
      "source": [
        "{результат} if {условие} else {альтернативный вариант}"
      ],
      "metadata": {
        "id": "siujGKOZHloY"
      },
      "execution_count": null,
      "outputs": []
    },
    {
      "cell_type": "code",
      "source": [
        "if condition1:\n",
        "  ...\n",
        "  if condition2:\n",
        "    ...\n",
        "    if condition3:\n",
        "      ...\n",
        "    else:\n",
        "      ...\n",
        "  else:\n",
        "    ...\n",
        "elif condition4:\n",
        "  ...\n",
        "  if condition5:\n",
        "    ...\n",
        "  else:\n",
        "    ...\n",
        "else:\n",
        "  ..."
      ],
      "metadata": {
        "id": "yt5jee25IK2q"
      },
      "execution_count": null,
      "outputs": []
    },
    {
      "cell_type": "markdown",
      "source": [
        "## Best practices"
      ],
      "metadata": {
        "id": "Bo6QLhj7LIGV"
      }
    },
    {
      "cell_type": "markdown",
      "source": [
        "**Методика раннего прерывания**"
      ],
      "metadata": {
        "id": "puAGdysR9sS2"
      }
    },
    {
      "cell_type": "code",
      "source": [
        "def check_shop_is_opened(shop):\n",
        "  if shop:\n",
        "    return True\n",
        "\n",
        "def check_is_unit_in_shop(unit, shop):\n",
        "  if shop and unit:\n",
        "    return True\n",
        "\n",
        "def check_customer_can_afford_unit(unit, customer):\n",
        "  if unit and customer:\n",
        "    return True\n",
        "\n",
        "shop = 'Магазин 1'\n",
        "unit = 'Компьютер'\n",
        "customer = 'Вася'\n",
        "\n",
        "def make_purchase():\n",
        "  if check_shop_is_opened(shop):\n",
        "    if check_is_unit_in_shop(unit, shop):\n",
        "      if check_customer_can_afford_unit(unit, customer):\n",
        "        return 'Покупка совершена успешно'\n",
        "      else:\n",
        "        raise Exception('Не хватило денег')\n",
        "    else:\n",
        "      raise Exception('Товара нет в магазине')\n",
        "  else:\n",
        "    raise Exception('Магазин закрыт')\n",
        "\n",
        "make_purchase()"
      ],
      "metadata": {
        "id": "Xk91jQZoLOrX",
        "colab": {
          "base_uri": "https://localhost:8080/",
          "height": 35
        },
        "outputId": "f6aa4df1-ff64-41db-f85b-680949e3d76c"
      },
      "execution_count": null,
      "outputs": [
        {
          "output_type": "execute_result",
          "data": {
            "text/plain": [
              "'Покупка совершена успешно'"
            ],
            "application/vnd.google.colaboratory.intrinsic+json": {
              "type": "string"
            }
          },
          "metadata": {},
          "execution_count": 50
        }
      ]
    },
    {
      "cell_type": "code",
      "source": [
        "def check_shop_is_opened(shop):\n",
        "  if shop:\n",
        "    return True\n",
        "\n",
        "def check_is_unit_in_shop(unit, shop):\n",
        "  if shop and unit:\n",
        "    return True\n",
        "\n",
        "def check_customer_can_afford_unit(unit, customer):\n",
        "  if unit and customer:\n",
        "    return True\n",
        "\n",
        "def make_purhcase():\n",
        "  if not check_shop_is_opened(shop):\n",
        "    raise Exception('Магазин закрыт')\n",
        "\n",
        "  if not check_is_unit_in_shop(unit, shop):\n",
        "    raise Exception('Товара нет в магазине')\n",
        "\n",
        "  if not check_customer_can_afford_unit(unit, customer):\n",
        "    raise Exception('Не хватило денег')\n",
        "\n",
        "  return 'Покупка совершена успешно'"
      ],
      "metadata": {
        "id": "6WO3qDINNYtr"
      },
      "execution_count": null,
      "outputs": []
    },
    {
      "cell_type": "code",
      "source": [
        "make_purchase()"
      ],
      "metadata": {
        "colab": {
          "base_uri": "https://localhost:8080/",
          "height": 35
        },
        "id": "DsK1idBmN22R",
        "outputId": "196ef24d-6a2f-40ef-f84f-fb1f28ae10ca"
      },
      "execution_count": null,
      "outputs": [
        {
          "output_type": "execute_result",
          "data": {
            "text/plain": [
              "'Покупка совершена успешно'"
            ],
            "application/vnd.google.colaboratory.intrinsic+json": {
              "type": "string"
            }
          },
          "metadata": {},
          "execution_count": 58
        }
      ]
    },
    {
      "cell_type": "code",
      "source": [
        "def pow(a, n):\n",
        "  if n:\n",
        "    return a**n\n",
        "  else:\n",
        "    return a"
      ],
      "metadata": {
        "id": "7r1BWUw-OPVX"
      },
      "execution_count": null,
      "outputs": []
    },
    {
      "cell_type": "code",
      "source": [
        "def pow(a, n):\n",
        "  if n:\n",
        "    return a**n\n",
        "  return a"
      ],
      "metadata": {
        "id": "Zed4-T8hOXJC"
      },
      "execution_count": null,
      "outputs": []
    },
    {
      "cell_type": "code",
      "source": [
        "def pow(a, n):\n",
        "  if n:\n",
        "    print(a**n)\n",
        "  print(a)"
      ],
      "metadata": {
        "id": "OkLvuXfjOyO2"
      },
      "execution_count": null,
      "outputs": []
    },
    {
      "cell_type": "code",
      "source": [
        "pow(3, 5)"
      ],
      "metadata": {
        "colab": {
          "base_uri": "https://localhost:8080/"
        },
        "id": "Hr4499mKObzd",
        "outputId": "27684a28-8f89-45ff-b6d6-90e6ebc6a374"
      },
      "execution_count": null,
      "outputs": [
        {
          "output_type": "stream",
          "name": "stdout",
          "text": [
            "243\n",
            "3\n"
          ]
        }
      ]
    },
    {
      "cell_type": "markdown",
      "source": [
        "**Избегайте длинных условий**"
      ],
      "metadata": {
        "id": "V7jgKyiU9v18"
      }
    },
    {
      "cell_type": "code",
      "source": [
        "class Competition:\n",
        "  is_active = True\n",
        "  remaining = 10\n",
        "\n",
        "  @property\n",
        "  def is_actual(self):\n",
        "    if self.is_active and self.remaining > 0:\n",
        "      return True\n",
        "    return False\n",
        "\n",
        "class Person:\n",
        "  age = 18\n",
        "  level = 5\n",
        "\n",
        "  @property\n",
        "  def match_conditions(self):\n",
        "    if self.age > 15 and self.level > 3:\n",
        "      return True\n",
        "    return False\n",
        "\n",
        "comp = Competition()\n",
        "per = Person()\n",
        "\n",
        "if comp.is_actual and per.match_conditions:\n",
        "  ...\n",
        "else:\n",
        "  print('Извините, вы не соответствуете условиям начисления баллов')"
      ],
      "metadata": {
        "id": "3bYuvJs8-Lwg"
      },
      "execution_count": null,
      "outputs": []
    },
    {
      "cell_type": "markdown",
      "source": [
        "**Избегайте дублирования кода**"
      ],
      "metadata": {
        "id": "NaCyrNzU-L2w"
      }
    },
    {
      "cell_type": "code",
      "source": [
        "def login(username, email, password):\n",
        "  print('Пользователь залогинен')\n",
        "\n",
        "def create_user(username, email, password, company_id):\n",
        "  print('Пользователь создан')\n",
        "\n",
        "user = 1\n",
        "\n",
        "username = 'andron23'\n",
        "email = 'a.alexanyan@itresume.ru'\n",
        "password = 'acbde'\n",
        "company_id = 100\n",
        "\n",
        "if not user:\n",
        "  create_user(\n",
        "      username = username,\n",
        "      email = email,\n",
        "      password = password,\n",
        "      company_id = company_id\n",
        "  )\n",
        "else:\n",
        "  login(\n",
        "      username = username,\n",
        "      email = email,\n",
        "      password = password,\n",
        "  )"
      ],
      "metadata": {
        "colab": {
          "base_uri": "https://localhost:8080/"
        },
        "id": "he-jPjZ9-U75",
        "outputId": "dea3b612-6e02-42bb-bdb2-fb0c2625e937"
      },
      "execution_count": null,
      "outputs": [
        {
          "output_type": "stream",
          "name": "stdout",
          "text": [
            "Пользователь залогинен\n"
          ]
        }
      ]
    },
    {
      "cell_type": "code",
      "source": [
        "if not user:\n",
        "  auth_func = create_user\n",
        "  extra_args = {\n",
        "      \"company_id\": company_id\n",
        "  }\n",
        "else:\n",
        "  auth_func = login\n",
        "  extra_args = {}\n",
        "\n",
        "auth_func(\n",
        "      username = username,\n",
        "      email = email,\n",
        "      password = password,\n",
        "      **extra_args\n",
        ")"
      ],
      "metadata": {
        "colab": {
          "base_uri": "https://localhost:8080/"
        },
        "id": "qqmmHUliS43I",
        "outputId": "891dbc62-9381-43e4-92b9-e571da0009d2"
      },
      "execution_count": null,
      "outputs": [
        {
          "output_type": "stream",
          "name": "stdout",
          "text": [
            "Пользователь залогинен\n"
          ]
        }
      ]
    },
    {
      "cell_type": "markdown",
      "source": [
        "**Не усложняйте**"
      ],
      "metadata": {
        "id": "fxt4gOrt-mkn"
      }
    },
    {
      "cell_type": "code",
      "source": [
        "def pow(a, n=None):\n",
        "  if bool(n) is not False:\n",
        "    return a**n\n",
        "  return a"
      ],
      "metadata": {
        "id": "X6l53Col-olv"
      },
      "execution_count": null,
      "outputs": []
    },
    {
      "cell_type": "code",
      "source": [
        "0 is not None"
      ],
      "metadata": {
        "colab": {
          "base_uri": "https://localhost:8080/"
        },
        "id": "DzwFIG0lUHLq",
        "outputId": "7768943f-8d58-4127-84cf-1e29f476fea2"
      },
      "execution_count": null,
      "outputs": [
        {
          "output_type": "execute_result",
          "data": {
            "text/plain": [
              "True"
            ]
          },
          "metadata": {},
          "execution_count": 74
        }
      ]
    },
    {
      "cell_type": "code",
      "source": [
        "a = [1]\n",
        "\n",
        "if len(a) > 0:\n",
        "  print('Список непустой')"
      ],
      "metadata": {
        "colab": {
          "base_uri": "https://localhost:8080/"
        },
        "id": "bFr1SPifUXvg",
        "outputId": "214901e7-ceaf-4c8c-9749-30d614aae6b9"
      },
      "execution_count": null,
      "outputs": [
        {
          "output_type": "stream",
          "name": "stdout",
          "text": [
            "Список непустой\n"
          ]
        }
      ]
    },
    {
      "cell_type": "code",
      "source": [
        "if a:\n",
        "  print('Список непустой')\n",
        "else:\n",
        "  print('Список пустой')"
      ],
      "metadata": {
        "colab": {
          "base_uri": "https://localhost:8080/"
        },
        "id": "152bF4i4UhRk",
        "outputId": "14ea6f49-baea-4b98-b008-ef12ba5b8a94"
      },
      "execution_count": null,
      "outputs": [
        {
          "output_type": "stream",
          "name": "stdout",
          "text": [
            "Список непустой\n"
          ]
        }
      ]
    },
    {
      "cell_type": "code",
      "source": [
        "fl = True\n",
        "\n",
        "if fl is True\n",
        "\n",
        "if fl is False\n",
        "\n",
        "if fl is not True"
      ],
      "metadata": {
        "id": "eCXrLwVSUwP1"
      },
      "execution_count": null,
      "outputs": []
    },
    {
      "cell_type": "code",
      "source": [
        "fl = True\n",
        "\n",
        "if fl:\n",
        "  print('True')"
      ],
      "metadata": {
        "id": "ngC_9RtKU1vg",
        "outputId": "f0a09cb9-1c5c-454c-9bcb-b9fa2382598c",
        "colab": {
          "base_uri": "https://localhost:8080/"
        }
      },
      "execution_count": null,
      "outputs": [
        {
          "output_type": "stream",
          "name": "stdout",
          "text": [
            "True\n"
          ]
        }
      ]
    }
  ]
}