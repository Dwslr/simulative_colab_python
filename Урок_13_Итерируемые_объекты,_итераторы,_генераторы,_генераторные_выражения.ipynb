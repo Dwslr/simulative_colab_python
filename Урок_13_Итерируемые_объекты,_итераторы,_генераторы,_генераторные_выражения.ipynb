{
  "nbformat": 4,
  "nbformat_minor": 0,
  "metadata": {
    "colab": {
      "provenance": [],
      "include_colab_link": true
    },
    "kernelspec": {
      "name": "python3",
      "display_name": "Python 3"
    },
    "language_info": {
      "name": "python"
    }
  },
  "cells": [
    {
      "cell_type": "markdown",
      "metadata": {
        "id": "view-in-github",
        "colab_type": "text"
      },
      "source": [
        "<a href=\"https://colab.research.google.com/github/Dwslr/simulative_colab_python/blob/main/%D0%A3%D1%80%D0%BE%D0%BA_13_%D0%98%D1%82%D0%B5%D1%80%D0%B8%D1%80%D1%83%D0%B5%D0%BC%D1%8B%D0%B5_%D0%BE%D0%B1%D1%8A%D0%B5%D0%BA%D1%82%D1%8B%2C_%D0%B8%D1%82%D0%B5%D1%80%D0%B0%D1%82%D0%BE%D1%80%D1%8B%2C_%D0%B3%D0%B5%D0%BD%D0%B5%D1%80%D0%B0%D1%82%D0%BE%D1%80%D1%8B%2C_%D0%B3%D0%B5%D0%BD%D0%B5%D1%80%D0%B0%D1%82%D0%BE%D1%80%D0%BD%D1%8B%D0%B5_%D0%B2%D1%8B%D1%80%D0%B0%D0%B6%D0%B5%D0%BD%D0%B8%D1%8F.ipynb\" target=\"_parent\"><img src=\"https://colab.research.google.com/assets/colab-badge.svg\" alt=\"Open In Colab\"/></a>"
      ]
    },
    {
      "cell_type": "markdown",
      "source": [
        "# Итераторы и итерируемые объекты"
      ],
      "metadata": {
        "id": "LDnvi8siH_Yh"
      }
    },
    {
      "cell_type": "markdown",
      "source": [
        "## В чем отличие итератора от итерируемого объекта"
      ],
      "metadata": {
        "id": "Dly56xjOIEyX"
      }
    },
    {
      "cell_type": "code",
      "source": [
        "# 1. Цель - пройтись по элементам, вернуть следующий или бросить ошибку\n",
        "# 2. Если есть элемент внутри этого объекта - возвращаем его\n",
        "# 3. Если нет - бросаем исключение StopIteration\n",
        "# 4. Реализует метод __next__"
      ],
      "metadata": {
        "id": "BoLHLAFPIHhY"
      },
      "execution_count": null,
      "outputs": []
    },
    {
      "cell_type": "code",
      "source": [
        "class Person:\n",
        "  def __next__(self):\n",
        "    ..."
      ],
      "metadata": {
        "id": "kBe1yE85SXgo"
      },
      "execution_count": null,
      "outputs": []
    },
    {
      "cell_type": "code",
      "source": [
        "# 1. Реализованы методы __iter__ или __getitem__\n",
        "# 2. Цель - создать итератор"
      ],
      "metadata": {
        "id": "WvysHmZBSmiV"
      },
      "execution_count": null,
      "outputs": []
    },
    {
      "cell_type": "code",
      "source": [
        "lst = [1, 2, 3]"
      ],
      "metadata": {
        "id": "ESDgQARKS1hH"
      },
      "execution_count": null,
      "outputs": []
    },
    {
      "cell_type": "code",
      "source": [
        "class List:\n",
        "  def __iter__(self):\n",
        "    ..."
      ],
      "metadata": {
        "id": "9_3tJS_lS4rO"
      },
      "execution_count": null,
      "outputs": []
    },
    {
      "cell_type": "markdown",
      "source": [
        "## Рассмотрим на примере"
      ],
      "metadata": {
        "id": "U7_g2MIAIHmv"
      }
    },
    {
      "cell_type": "code",
      "source": [
        "lst = [1, 2, 3]\n",
        "\n",
        "for el in lst:\n",
        "  print(el)"
      ],
      "metadata": {
        "colab": {
          "base_uri": "https://localhost:8080/"
        },
        "id": "F6DG2R9hIMVh",
        "outputId": "6fe904e2-c81e-4f75-e58d-5a523ab3c389"
      },
      "execution_count": null,
      "outputs": [
        {
          "output_type": "stream",
          "name": "stdout",
          "text": [
            "1\n",
            "2\n",
            "3\n"
          ]
        }
      ]
    },
    {
      "cell_type": "code",
      "source": [
        "for i in range(len(lst)):\n",
        "  print(lst[i])"
      ],
      "metadata": {
        "id": "4Hl8nnodUqND"
      },
      "execution_count": null,
      "outputs": []
    },
    {
      "cell_type": "code",
      "source": [
        "type(lst)"
      ],
      "metadata": {
        "colab": {
          "base_uri": "https://localhost:8080/"
        },
        "id": "iZkmYj1eTXtV",
        "outputId": "d7ecc4c2-8115-4e29-ae3f-9fd8dc502795"
      },
      "execution_count": null,
      "outputs": [
        {
          "output_type": "execute_result",
          "data": {
            "text/plain": [
              "list"
            ]
          },
          "metadata": {},
          "execution_count": 52
        }
      ]
    },
    {
      "cell_type": "code",
      "source": [
        "lst = [1, 2, 3]\n",
        "\n",
        "# lst - это список, а значит итерируемый объект\n",
        "\n",
        "it = iter(lst)\n",
        "\n",
        "# теперь it - это итератор\n",
        "\n",
        "while True:\n",
        "  print(next(it))"
      ],
      "metadata": {
        "colab": {
          "base_uri": "https://localhost:8080/",
          "height": 252
        },
        "id": "1xR-LsVsThuo",
        "outputId": "1381e7d7-a027-4306-dc5d-a10b4cef7515"
      },
      "execution_count": null,
      "outputs": [
        {
          "output_type": "stream",
          "name": "stdout",
          "text": [
            "1\n",
            "2\n",
            "3\n"
          ]
        },
        {
          "output_type": "error",
          "ename": "StopIteration",
          "evalue": "ignored",
          "traceback": [
            "\u001b[0;31m---------------------------------------------------------------------------\u001b[0m",
            "\u001b[0;31mStopIteration\u001b[0m                             Traceback (most recent call last)",
            "\u001b[0;32m<ipython-input-53-f56bf1d07a0d>\u001b[0m in \u001b[0;36m<module>\u001b[0;34m\u001b[0m\n\u001b[1;32m      8\u001b[0m \u001b[0;34m\u001b[0m\u001b[0m\n\u001b[1;32m      9\u001b[0m \u001b[0;32mwhile\u001b[0m \u001b[0;32mTrue\u001b[0m\u001b[0;34m:\u001b[0m\u001b[0;34m\u001b[0m\u001b[0;34m\u001b[0m\u001b[0m\n\u001b[0;32m---> 10\u001b[0;31m   \u001b[0mprint\u001b[0m\u001b[0;34m(\u001b[0m\u001b[0mnext\u001b[0m\u001b[0;34m(\u001b[0m\u001b[0mit\u001b[0m\u001b[0;34m)\u001b[0m\u001b[0;34m)\u001b[0m\u001b[0;34m\u001b[0m\u001b[0;34m\u001b[0m\u001b[0m\n\u001b[0m",
            "\u001b[0;31mStopIteration\u001b[0m: "
          ]
        }
      ]
    },
    {
      "cell_type": "markdown",
      "source": [
        "# Генераторы"
      ],
      "metadata": {
        "id": "N0ilV5ugIOQC"
      }
    },
    {
      "cell_type": "markdown",
      "source": [
        "## Определение"
      ],
      "metadata": {
        "id": "3azHXMA0Ifz0"
      }
    },
    {
      "cell_type": "code",
      "source": [
        "yield"
      ],
      "metadata": {
        "id": "6yumz4ApIVkJ"
      },
      "execution_count": null,
      "outputs": []
    },
    {
      "cell_type": "code",
      "source": [
        "def pow(x):\n",
        "  while True:\n",
        "    yield x**2\n",
        "    x += 1"
      ],
      "metadata": {
        "id": "nHWy0FmwVGrY"
      },
      "execution_count": null,
      "outputs": []
    },
    {
      "cell_type": "code",
      "source": [
        "p = pow(5)"
      ],
      "metadata": {
        "id": "07JNTbiVVuJj"
      },
      "execution_count": null,
      "outputs": []
    },
    {
      "cell_type": "code",
      "source": [
        "p"
      ],
      "metadata": {
        "colab": {
          "base_uri": "https://localhost:8080/"
        },
        "id": "SUeHuFr8VxOA",
        "outputId": "97c749dd-dd2b-434c-ad10-1b77321649cc"
      },
      "execution_count": null,
      "outputs": [
        {
          "output_type": "execute_result",
          "data": {
            "text/plain": [
              "<generator object pow at 0x7f79a01e6a50>"
            ]
          },
          "metadata": {},
          "execution_count": 56
        }
      ]
    },
    {
      "cell_type": "code",
      "source": [
        "next(p)"
      ],
      "metadata": {
        "colab": {
          "base_uri": "https://localhost:8080/"
        },
        "id": "TjJLu6hNWYrN",
        "outputId": "27f47866-16ed-44b5-f279-5bb5084100df"
      },
      "execution_count": null,
      "outputs": [
        {
          "output_type": "execute_result",
          "data": {
            "text/plain": [
              "100"
            ]
          },
          "metadata": {},
          "execution_count": 62
        }
      ]
    },
    {
      "cell_type": "code",
      "source": [
        "for el in p:\n",
        "  print(el)"
      ],
      "metadata": {
        "colab": {
          "base_uri": "https://localhost:8080/"
        },
        "id": "7wsbPbk4VzXX",
        "outputId": "520f7954-04f8-4475-f0ef-cbf699bc4174"
      },
      "execution_count": null,
      "outputs": [
        {
          "output_type": "execute_result",
          "data": {
            "text/plain": [
              "81"
            ]
          },
          "metadata": {},
          "execution_count": 61
        }
      ]
    },
    {
      "cell_type": "code",
      "source": [
        "def pow(x):\n",
        "  results = []\n",
        "  while True:\n",
        "    results.append(x**2)\n",
        "    x += 1\n",
        "  return results"
      ],
      "metadata": {
        "id": "sUbn4zHEWEEn"
      },
      "execution_count": null,
      "outputs": []
    },
    {
      "cell_type": "markdown",
      "source": [
        "## Отличие генератора от итератора"
      ],
      "metadata": {
        "id": "iAKvV-84Ihff"
      }
    },
    {
      "cell_type": "code",
      "source": [
        "def fib():\n",
        "  a, b = 0, 1\n",
        "  while True:\n",
        "    yield a\n",
        "    a, b = b, a + b"
      ],
      "metadata": {
        "id": "sRMjfrO-IjYh"
      },
      "execution_count": null,
      "outputs": []
    },
    {
      "cell_type": "code",
      "source": [
        "f = fib()"
      ],
      "metadata": {
        "id": "ZIVy8wKuW8II"
      },
      "execution_count": null,
      "outputs": []
    },
    {
      "cell_type": "code",
      "source": [
        "next(f)"
      ],
      "metadata": {
        "colab": {
          "base_uri": "https://localhost:8080/"
        },
        "id": "vgtDROjRW9Gn",
        "outputId": "4e4128d1-4057-4594-d233-4d707b0f777c"
      },
      "execution_count": null,
      "outputs": [
        {
          "output_type": "execute_result",
          "data": {
            "text/plain": [
              "21"
            ]
          },
          "metadata": {},
          "execution_count": 73
        }
      ]
    },
    {
      "cell_type": "code",
      "source": [
        "for el in f:\n",
        "  print(el)\n",
        "  if el > 100:\n",
        "    break"
      ],
      "metadata": {
        "colab": {
          "base_uri": "https://localhost:8080/"
        },
        "id": "0lpsvyzNXDrI",
        "outputId": "eb267f30-89b4-41ca-c70e-277afaecc839"
      },
      "execution_count": null,
      "outputs": [
        {
          "output_type": "stream",
          "name": "stdout",
          "text": [
            "34\n",
            "55\n",
            "89\n",
            "144\n"
          ]
        }
      ]
    },
    {
      "cell_type": "code",
      "source": [
        "next(f)"
      ],
      "metadata": {
        "colab": {
          "base_uri": "https://localhost:8080/"
        },
        "id": "PF72fncGXO9X",
        "outputId": "a247cbd3-d16f-4361-ee07-44ddecbc4e40"
      },
      "execution_count": null,
      "outputs": [
        {
          "output_type": "execute_result",
          "data": {
            "text/plain": [
              "233"
            ]
          },
          "metadata": {},
          "execution_count": 75
        }
      ]
    },
    {
      "cell_type": "markdown",
      "source": [
        "## Генераторные выражения\n",
        "\n",
        "И их отличия от list comprehension"
      ],
      "metadata": {
        "id": "yuseFUhJJCsf"
      }
    },
    {
      "cell_type": "code",
      "source": [
        "a = (i for i in range(10))"
      ],
      "metadata": {
        "id": "TGCE-_KwJVsg"
      },
      "execution_count": null,
      "outputs": []
    },
    {
      "cell_type": "code",
      "source": [
        "next(a)"
      ],
      "metadata": {
        "colab": {
          "base_uri": "https://localhost:8080/"
        },
        "id": "7UotOUMUXgog",
        "outputId": "a447eda5-53d1-4262-ac1a-891969cbfa42"
      },
      "execution_count": null,
      "outputs": [
        {
          "output_type": "execute_result",
          "data": {
            "text/plain": [
              "2"
            ]
          },
          "metadata": {},
          "execution_count": 81
        }
      ]
    },
    {
      "cell_type": "code",
      "source": [
        "%timeit any([x > 100 for x in range(1000000)])"
      ],
      "metadata": {
        "colab": {
          "base_uri": "https://localhost:8080/"
        },
        "id": "gqHTXkoLXk3r",
        "outputId": "4d5f98fc-906a-4f2b-befe-0c43fc09fa03"
      },
      "execution_count": null,
      "outputs": [
        {
          "output_type": "stream",
          "name": "stdout",
          "text": [
            "81.7 ms ± 3 ms per loop (mean ± std. dev. of 7 runs, 10 loops each)\n"
          ]
        }
      ]
    },
    {
      "cell_type": "code",
      "source": [
        "%timeit any((x > 100 for x in range(1000000)))"
      ],
      "metadata": {
        "colab": {
          "base_uri": "https://localhost:8080/"
        },
        "id": "AKp9ySlOYlAt",
        "outputId": "305150db-46d5-407d-9931-355877aff51c"
      },
      "execution_count": null,
      "outputs": [
        {
          "output_type": "stream",
          "name": "stdout",
          "text": [
            "7.57 µs ± 88.2 ns per loop (mean ± std. dev. of 7 runs, 100000 loops each)\n"
          ]
        }
      ]
    }
  ]
}