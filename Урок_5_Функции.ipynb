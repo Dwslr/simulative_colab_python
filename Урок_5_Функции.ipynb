{
  "nbformat": 4,
  "nbformat_minor": 0,
  "metadata": {
    "colab": {
      "provenance": [],
      "toc_visible": true,
      "include_colab_link": true
    },
    "kernelspec": {
      "name": "python3",
      "display_name": "Python 3"
    },
    "language_info": {
      "name": "python"
    }
  },
  "cells": [
    {
      "cell_type": "markdown",
      "metadata": {
        "id": "view-in-github",
        "colab_type": "text"
      },
      "source": [
        "<a href=\"https://colab.research.google.com/github/Dwslr/simulative_colab_python/blob/main/%D0%A3%D1%80%D0%BE%D0%BA_5_%D0%A4%D1%83%D0%BD%D0%BA%D1%86%D0%B8%D0%B8.ipynb\" target=\"_parent\"><img src=\"https://colab.research.google.com/assets/colab-badge.svg\" alt=\"Open In Colab\"/></a>"
      ]
    },
    {
      "cell_type": "markdown",
      "source": [
        "# Функции"
      ],
      "metadata": {
        "id": "2g55toN7LnGE"
      }
    },
    {
      "cell_type": "markdown",
      "source": [
        "## Создание функции"
      ],
      "metadata": {
        "id": "nrijXPD4Lp1D"
      }
    },
    {
      "cell_type": "code",
      "source": [
        "def funcion_name(<argements>):\n",
        "  <body>"
      ],
      "metadata": {
        "id": "hT9NkSyjLr4E"
      },
      "execution_count": null,
      "outputs": []
    },
    {
      "cell_type": "code",
      "source": [
        "def foo():\n",
        "  print('Hello!')"
      ],
      "metadata": {
        "id": "9S3AxsF9O3UX"
      },
      "execution_count": null,
      "outputs": []
    },
    {
      "cell_type": "code",
      "source": [
        "foo()"
      ],
      "metadata": {
        "colab": {
          "base_uri": "https://localhost:8080/"
        },
        "id": "V7h51TYAO_XA",
        "outputId": "fec1e8a4-132d-4b3f-e6f8-f2cb5fd2affb"
      },
      "execution_count": null,
      "outputs": [
        {
          "output_type": "stream",
          "name": "stdout",
          "text": [
            "Hello!\n"
          ]
        }
      ]
    },
    {
      "cell_type": "code",
      "source": [
        "def foo2():\n",
        "  print('Hello!')\n",
        "  print('Hello 2!')"
      ],
      "metadata": {
        "id": "WR-dXexePG6A"
      },
      "execution_count": null,
      "outputs": []
    },
    {
      "cell_type": "code",
      "source": [
        "foo2()"
      ],
      "metadata": {
        "colab": {
          "base_uri": "https://localhost:8080/"
        },
        "id": "vB8qZ3hfPQ94",
        "outputId": "98fa6561-1256-4479-fd06-75bbab4b2b88"
      },
      "execution_count": null,
      "outputs": [
        {
          "output_type": "stream",
          "name": "stdout",
          "text": [
            "Hello!\n",
            "Hello 2!\n"
          ]
        }
      ]
    },
    {
      "cell_type": "markdown",
      "source": [
        "## Оператор return"
      ],
      "metadata": {
        "id": "TCnx1Nv5LsAU"
      }
    },
    {
      "cell_type": "code",
      "source": [
        "def pow():\n",
        "  return 5**2"
      ],
      "metadata": {
        "id": "yaNRUfb2Lt-0"
      },
      "execution_count": null,
      "outputs": []
    },
    {
      "cell_type": "code",
      "source": [
        "pow()"
      ],
      "metadata": {
        "colab": {
          "base_uri": "https://localhost:8080/"
        },
        "id": "7I2zN8zeQIPr",
        "outputId": "e4c83cec-9525-4b3b-dce2-06a24724158a"
      },
      "execution_count": null,
      "outputs": [
        {
          "output_type": "execute_result",
          "data": {
            "text/plain": [
              "25"
            ]
          },
          "metadata": {},
          "execution_count": 10
        }
      ]
    },
    {
      "cell_type": "code",
      "source": [
        "a = pow()"
      ],
      "metadata": {
        "id": "2EwU2bLIQKOy"
      },
      "execution_count": null,
      "outputs": []
    },
    {
      "cell_type": "code",
      "source": [
        "a"
      ],
      "metadata": {
        "colab": {
          "base_uri": "https://localhost:8080/"
        },
        "id": "usv84YKmQL-J",
        "outputId": "56d85045-5b0d-410b-ddea-b6d2d227a260"
      },
      "execution_count": null,
      "outputs": [
        {
          "output_type": "execute_result",
          "data": {
            "text/plain": [
              "25"
            ]
          },
          "metadata": {},
          "execution_count": 12
        }
      ]
    },
    {
      "cell_type": "markdown",
      "source": [
        "## Void функции"
      ],
      "metadata": {
        "id": "Dqsv9j5FLutE"
      }
    },
    {
      "cell_type": "code",
      "execution_count": null,
      "metadata": {
        "colab": {
          "base_uri": "https://localhost:8080/"
        },
        "id": "XHCCqWCSLkh2",
        "outputId": "39293c99-14a3-4e2e-b29e-5742bfc44b63"
      },
      "outputs": [
        {
          "output_type": "stream",
          "name": "stdout",
          "text": [
            "Hello!\n",
            "Hello 2!\n"
          ]
        }
      ],
      "source": [
        "foo2()"
      ]
    },
    {
      "cell_type": "code",
      "source": [
        "a = foo2()\n",
        "a"
      ],
      "metadata": {
        "colab": {
          "base_uri": "https://localhost:8080/"
        },
        "id": "hVSWMQbeQa41",
        "outputId": "2d3f0d44-7003-47d8-f755-2a88c9244ae0"
      },
      "execution_count": null,
      "outputs": [
        {
          "output_type": "stream",
          "name": "stdout",
          "text": [
            "Hello!\n",
            "Hello 2!\n"
          ]
        }
      ]
    },
    {
      "cell_type": "code",
      "source": [
        "a"
      ],
      "metadata": {
        "id": "9yVuCsICQeMc"
      },
      "execution_count": null,
      "outputs": []
    },
    {
      "cell_type": "markdown",
      "source": [
        "## Оператор \"ничего не делать\""
      ],
      "metadata": {
        "id": "5gmVo64SLw8b"
      }
    },
    {
      "cell_type": "code",
      "source": [
        "def foo3():\n",
        "  pass\n",
        "\n",
        "def foo4():\n",
        "  ..."
      ],
      "metadata": {
        "id": "neoOIEeZL0mT"
      },
      "execution_count": null,
      "outputs": []
    },
    {
      "cell_type": "code",
      "source": [
        "foo4()"
      ],
      "metadata": {
        "id": "XW6xJyKiRAOc"
      },
      "execution_count": null,
      "outputs": []
    },
    {
      "cell_type": "markdown",
      "source": [
        "## Задание аргументов"
      ],
      "metadata": {
        "id": "ZUABm4s0L0rb"
      }
    },
    {
      "cell_type": "code",
      "source": [
        "def pow(x, n):\n",
        "  return x**n"
      ],
      "metadata": {
        "id": "HHA7JTeUL2sT"
      },
      "execution_count": null,
      "outputs": []
    },
    {
      "cell_type": "code",
      "source": [
        "pow(5, 3)"
      ],
      "metadata": {
        "colab": {
          "base_uri": "https://localhost:8080/"
        },
        "id": "MxxnxCDyRc1q",
        "outputId": "3c3d2369-e6d9-40b1-9859-356ddc16a51a"
      },
      "execution_count": null,
      "outputs": [
        {
          "output_type": "execute_result",
          "data": {
            "text/plain": [
              "125"
            ]
          },
          "metadata": {},
          "execution_count": 21
        }
      ]
    },
    {
      "cell_type": "code",
      "source": [
        "pow(x=4, n=3)"
      ],
      "metadata": {
        "colab": {
          "base_uri": "https://localhost:8080/"
        },
        "id": "rAhQJ7HaRfd9",
        "outputId": "ac338f4e-95b1-4406-de6e-52d1bec06919"
      },
      "execution_count": null,
      "outputs": [
        {
          "output_type": "execute_result",
          "data": {
            "text/plain": [
              "64"
            ]
          },
          "metadata": {},
          "execution_count": 22
        }
      ]
    },
    {
      "cell_type": "code",
      "source": [
        "a = pow(10, 2)\n",
        "a"
      ],
      "metadata": {
        "colab": {
          "base_uri": "https://localhost:8080/"
        },
        "id": "8GymN6lLRjbq",
        "outputId": "f833a3f9-a203-4195-d575-20607a52dda3"
      },
      "execution_count": null,
      "outputs": [
        {
          "output_type": "execute_result",
          "data": {
            "text/plain": [
              "100"
            ]
          },
          "metadata": {},
          "execution_count": 23
        }
      ]
    },
    {
      "cell_type": "markdown",
      "source": [
        "## Аргументы по умолчанию"
      ],
      "metadata": {
        "id": "IDu4MW2SL2xX"
      }
    },
    {
      "cell_type": "code",
      "source": [
        "def pow(x, n=2):\n",
        "  return x**n"
      ],
      "metadata": {
        "id": "1q89TuitL4or"
      },
      "execution_count": null,
      "outputs": []
    },
    {
      "cell_type": "code",
      "source": [
        "pow(5)"
      ],
      "metadata": {
        "colab": {
          "base_uri": "https://localhost:8080/"
        },
        "id": "zjNxHOwMR_or",
        "outputId": "841e5963-642c-4e4b-e708-30bc2c5ec204"
      },
      "execution_count": null,
      "outputs": [
        {
          "output_type": "execute_result",
          "data": {
            "text/plain": [
              "25"
            ]
          },
          "metadata": {},
          "execution_count": 25
        }
      ]
    },
    {
      "cell_type": "code",
      "source": [
        "pow()"
      ],
      "metadata": {
        "colab": {
          "base_uri": "https://localhost:8080/",
          "height": 165
        },
        "id": "WFw1n0cISIvV",
        "outputId": "54bda470-2627-4fde-b373-184f6dc23d25"
      },
      "execution_count": null,
      "outputs": [
        {
          "output_type": "error",
          "ename": "TypeError",
          "evalue": "ignored",
          "traceback": [
            "\u001b[0;31m---------------------------------------------------------------------------\u001b[0m",
            "\u001b[0;31mTypeError\u001b[0m                                 Traceback (most recent call last)",
            "\u001b[0;32m<ipython-input-26-62a32bd59551>\u001b[0m in \u001b[0;36m<module>\u001b[0;34m\u001b[0m\n\u001b[0;32m----> 1\u001b[0;31m \u001b[0mpow\u001b[0m\u001b[0;34m(\u001b[0m\u001b[0;34m)\u001b[0m\u001b[0;34m\u001b[0m\u001b[0;34m\u001b[0m\u001b[0m\n\u001b[0m",
            "\u001b[0;31mTypeError\u001b[0m: pow() missing 1 required positional argument: 'x'"
          ]
        }
      ]
    },
    {
      "cell_type": "code",
      "source": [
        "def pow2(x, add, n=2):\n",
        "  return x**n + add"
      ],
      "metadata": {
        "id": "J7IA7fyZSQf2"
      },
      "execution_count": null,
      "outputs": []
    },
    {
      "cell_type": "markdown",
      "source": [
        "## Контроль за именованными аргументами"
      ],
      "metadata": {
        "id": "5cCFA71CL4wD"
      }
    },
    {
      "cell_type": "code",
      "source": [
        "def add(a, b, c, d=100):\n",
        "  print(f'1 - {a}\\n2 - {b}\\n3 - {c}\\n4 - {d}')"
      ],
      "metadata": {
        "id": "Mz_OHNxoL7Ok"
      },
      "execution_count": null,
      "outputs": []
    },
    {
      "cell_type": "code",
      "source": [
        "add(10, 5, 15)"
      ],
      "metadata": {
        "colab": {
          "base_uri": "https://localhost:8080/"
        },
        "id": "k3X231ypTJaG",
        "outputId": "30cf7f79-31ee-40f4-be84-208e4a338b97"
      },
      "execution_count": null,
      "outputs": [
        {
          "output_type": "stream",
          "name": "stdout",
          "text": [
            "1 - 10\n",
            "2 - 5\n",
            "3 - 15\n",
            "4 - 100\n"
          ]
        }
      ]
    },
    {
      "cell_type": "code",
      "source": [
        "add(5, 10, 15)"
      ],
      "metadata": {
        "colab": {
          "base_uri": "https://localhost:8080/"
        },
        "id": "E4SRh-77TRh7",
        "outputId": "53138772-febb-4799-ffda-53e31fbfd195"
      },
      "execution_count": null,
      "outputs": [
        {
          "output_type": "stream",
          "name": "stdout",
          "text": [
            "1 - 5\n",
            "2 - 10\n",
            "3 - 15\n",
            "4 - 100\n"
          ]
        }
      ]
    },
    {
      "cell_type": "code",
      "source": [
        "add(c=100, b=10, a=5)"
      ],
      "metadata": {
        "colab": {
          "base_uri": "https://localhost:8080/"
        },
        "id": "QWGrzB-gT6ty",
        "outputId": "0ed4bef5-cd2e-4def-bf00-c44a971a9a1f"
      },
      "execution_count": null,
      "outputs": [
        {
          "output_type": "stream",
          "name": "stdout",
          "text": [
            "1 - 5\n",
            "2 - 10\n",
            "3 - 100\n",
            "4 - 100\n"
          ]
        }
      ]
    },
    {
      "cell_type": "code",
      "source": [
        "def strict_function(a, b, *, c, d=10):\n",
        "  return a*b + c*d"
      ],
      "metadata": {
        "id": "npf4BLlSUFvN"
      },
      "execution_count": null,
      "outputs": []
    },
    {
      "cell_type": "code",
      "source": [
        "strict_function(1, 2, 3, 4)"
      ],
      "metadata": {
        "colab": {
          "base_uri": "https://localhost:8080/",
          "height": 165
        },
        "id": "vMOgjQwqUP3W",
        "outputId": "0e6eebf5-40df-46f1-bb6d-e9ab7bcd0d65"
      },
      "execution_count": null,
      "outputs": [
        {
          "output_type": "error",
          "ename": "TypeError",
          "evalue": "ignored",
          "traceback": [
            "\u001b[0;31m---------------------------------------------------------------------------\u001b[0m",
            "\u001b[0;31mTypeError\u001b[0m                                 Traceback (most recent call last)",
            "\u001b[0;32m<ipython-input-37-32e6ba42bcac>\u001b[0m in \u001b[0;36m<module>\u001b[0;34m\u001b[0m\n\u001b[0;32m----> 1\u001b[0;31m \u001b[0mstrict_function\u001b[0m\u001b[0;34m(\u001b[0m\u001b[0;36m1\u001b[0m\u001b[0;34m,\u001b[0m \u001b[0;36m2\u001b[0m\u001b[0;34m,\u001b[0m \u001b[0;36m3\u001b[0m\u001b[0;34m,\u001b[0m \u001b[0;36m4\u001b[0m\u001b[0;34m)\u001b[0m\u001b[0;34m\u001b[0m\u001b[0;34m\u001b[0m\u001b[0m\n\u001b[0m",
            "\u001b[0;31mTypeError\u001b[0m: strict_function() takes 2 positional arguments but 4 were given"
          ]
        }
      ]
    },
    {
      "cell_type": "code",
      "source": [
        "strict_function(1, 2, c=3, d=4)"
      ],
      "metadata": {
        "colab": {
          "base_uri": "https://localhost:8080/"
        },
        "id": "lmku3KejUYjS",
        "outputId": "f2608ba1-3ed8-40d7-b779-20d3ca6e37de"
      },
      "execution_count": null,
      "outputs": [
        {
          "output_type": "execute_result",
          "data": {
            "text/plain": [
              "14"
            ]
          },
          "metadata": {},
          "execution_count": 38
        }
      ]
    },
    {
      "cell_type": "code",
      "source": [
        "strict_function(a=1, b=2, c=3)"
      ],
      "metadata": {
        "colab": {
          "base_uri": "https://localhost:8080/"
        },
        "id": "HKdWcBnjUeAv",
        "outputId": "0ec6d9ab-0860-43ca-985f-0dee89103820"
      },
      "execution_count": null,
      "outputs": [
        {
          "output_type": "execute_result",
          "data": {
            "text/plain": [
              "32"
            ]
          },
          "metadata": {},
          "execution_count": 39
        }
      ]
    },
    {
      "cell_type": "code",
      "source": [
        "def process(user_code, language, problem_id, company_id, attempts):\n",
        "  ...\n",
        "\n",
        "process(\"select * from users\", \"SQL\", 115, 1, 3)\n",
        "\n",
        "process(\n",
        "    user_code=\"select * from users\",\n",
        "    language=\"SQL\",\n",
        "    problem_id=115,\n",
        "    company_id=1,\n",
        "    attemptes=3,\n",
        ")"
      ],
      "metadata": {
        "id": "3DlqvtNXUyeH"
      },
      "execution_count": null,
      "outputs": []
    },
    {
      "cell_type": "markdown",
      "source": [
        "## args, kwargs"
      ],
      "metadata": {
        "id": "KbfvBPsGL7VX"
      }
    },
    {
      "cell_type": "code",
      "source": [
        "def foo(*args, **kwargs):\n",
        "  ...\n",
        "\n",
        "*args -> массив позиционных аргументов\n",
        "**kwargs -> словарь именованных аргументов"
      ],
      "metadata": {
        "id": "8-0uNckDL9Aj"
      },
      "execution_count": null,
      "outputs": []
    },
    {
      "cell_type": "code",
      "source": [
        "def foo(*args, **kwargs):\n",
        "  print(args)\n",
        "  print(kwargs)"
      ],
      "metadata": {
        "id": "wS5U55fTV5WX"
      },
      "execution_count": null,
      "outputs": []
    },
    {
      "cell_type": "code",
      "source": [
        "foo(5, 3, 'string', n=5, d=3, s='string 2')"
      ],
      "metadata": {
        "colab": {
          "base_uri": "https://localhost:8080/"
        },
        "id": "2TjIdN20V-V0",
        "outputId": "86588f72-6ba3-4887-c6f3-dba835143726"
      },
      "execution_count": null,
      "outputs": [
        {
          "output_type": "stream",
          "name": "stdout",
          "text": [
            "(5, 3, 'string')\n",
            "{'n': 5, 'd': 3, 's': 'string 2'}\n"
          ]
        }
      ]
    },
    {
      "cell_type": "code",
      "source": [
        "def foo(*some, **any):\n",
        "  print(some)\n",
        "  print(any)"
      ],
      "metadata": {
        "id": "h2LHbOl2WLaB"
      },
      "execution_count": null,
      "outputs": []
    },
    {
      "cell_type": "code",
      "source": [
        "def get_user_info(num, **kwargs):\n",
        "  name = kwargs.get('name', 'Без имени')\n",
        "  email = kwargs.get('email', 'Без почты')\n",
        "  print(f'Пользователь с номером {num}, именем {name} с почтой {email} и дополнительной информацией {kwargs}')"
      ],
      "metadata": {
        "id": "ZzrhT5Y0WW4H"
      },
      "execution_count": null,
      "outputs": []
    },
    {
      "cell_type": "code",
      "source": [
        "get_user_info(100, name='Андрон', email='me@mail.ru', language='Python')"
      ],
      "metadata": {
        "colab": {
          "base_uri": "https://localhost:8080/"
        },
        "id": "PXBgTP0_XEtT",
        "outputId": "2e9c737b-248f-4dc2-9671-17a459245ea8"
      },
      "execution_count": null,
      "outputs": [
        {
          "output_type": "stream",
          "name": "stdout",
          "text": [
            "Пользователь с номером 100, именем Андрон с почтой me@mail.ru и дополнительной информацией {'name': 'Андрон', 'email': 'me@mail.ru', 'language': 'Python'}\n"
          ]
        }
      ]
    },
    {
      "cell_type": "markdown",
      "source": [
        "## Локальные и глобальные переменные, область видимости"
      ],
      "metadata": {
        "id": "7oxxNo1CMHfO"
      }
    },
    {
      "cell_type": "code",
      "source": [
        "def foo(x):\n",
        "  x += 10\n",
        "  return x"
      ],
      "metadata": {
        "id": "WSP18D7KMJpb"
      },
      "execution_count": null,
      "outputs": []
    },
    {
      "cell_type": "code",
      "source": [
        "x = 100\n",
        "a = foo(x)\n",
        "\n",
        "a, x"
      ],
      "metadata": {
        "colab": {
          "base_uri": "https://localhost:8080/"
        },
        "id": "tBcB37YHXlU2",
        "outputId": "09c57aff-ad3c-491d-a4a8-da91acad645c"
      },
      "execution_count": null,
      "outputs": [
        {
          "output_type": "execute_result",
          "data": {
            "text/plain": [
              "(110, 100)"
            ]
          },
          "metadata": {},
          "execution_count": 50
        }
      ]
    },
    {
      "cell_type": "code",
      "source": [
        "def foo(x):\n",
        "  global a\n",
        "  a = x + 10\n",
        "  return a"
      ],
      "metadata": {
        "id": "rxceOE8SX76K"
      },
      "execution_count": null,
      "outputs": []
    },
    {
      "cell_type": "code",
      "source": [
        "a = 10\n",
        "\n",
        "b = foo(15)\n",
        "\n",
        "a, b"
      ],
      "metadata": {
        "colab": {
          "base_uri": "https://localhost:8080/"
        },
        "id": "PQ69-Ka5YJW0",
        "outputId": "2780738b-325e-45cb-a5c0-354fe1af681d"
      },
      "execution_count": null,
      "outputs": [
        {
          "output_type": "execute_result",
          "data": {
            "text/plain": [
              "(25, 25)"
            ]
          },
          "metadata": {},
          "execution_count": 53
        }
      ]
    },
    {
      "cell_type": "markdown",
      "source": [
        "## Документирование функций"
      ],
      "metadata": {
        "id": "i-2FlBJwMJv7"
      }
    },
    {
      "cell_type": "code",
      "source": [
        "def pow(x, n=2):\n",
        "  \"\"\"Это документация. Функция возводит любое число в степень n. По умолчанию n=2.\"\"\"\n",
        "  return x**2"
      ],
      "metadata": {
        "id": "BVJK0vUDMfI0"
      },
      "execution_count": null,
      "outputs": []
    },
    {
      "cell_type": "code",
      "source": [
        "pow.__doc__"
      ],
      "metadata": {
        "colab": {
          "base_uri": "https://localhost:8080/",
          "height": 35
        },
        "id": "GTqKKKmhY3cs",
        "outputId": "6da899cc-cf8c-44a0-b338-ab866dd7b1fa"
      },
      "execution_count": null,
      "outputs": [
        {
          "output_type": "execute_result",
          "data": {
            "text/plain": [
              "'Это документация. Функция возводит любое число в степень n. По умолчанию n=2.'"
            ],
            "application/vnd.google.colaboratory.intrinsic+json": {
              "type": "string"
            }
          },
          "metadata": {},
          "execution_count": 55
        }
      ]
    },
    {
      "cell_type": "markdown",
      "source": [
        "## Возврат нескольких значений из функции"
      ],
      "metadata": {
        "id": "c8YCG5NAMfPA"
      }
    },
    {
      "cell_type": "code",
      "source": [
        "def process(data):\n",
        "  flag = 1\n",
        "  res = 10\n",
        "  return flag, res"
      ],
      "metadata": {
        "id": "JLGsL1F_Mh5G"
      },
      "execution_count": null,
      "outputs": []
    },
    {
      "cell_type": "code",
      "source": [
        "fl, res = process(1)"
      ],
      "metadata": {
        "id": "BFB2IV06Zazx"
      },
      "execution_count": null,
      "outputs": []
    },
    {
      "cell_type": "code",
      "source": [
        "fl"
      ],
      "metadata": {
        "id": "wGzRONzqZgi_",
        "outputId": "ca4772cf-1224-4583-b869-fffe7b619d4e",
        "colab": {
          "base_uri": "https://localhost:8080/"
        }
      },
      "execution_count": null,
      "outputs": [
        {
          "output_type": "execute_result",
          "data": {
            "text/plain": [
              "1"
            ]
          },
          "metadata": {},
          "execution_count": 59
        }
      ]
    },
    {
      "cell_type": "code",
      "source": [
        "res"
      ],
      "metadata": {
        "id": "bGhe_SxLZhtl",
        "outputId": "81a3e287-1665-4222-c901-3fedd348587d",
        "colab": {
          "base_uri": "https://localhost:8080/"
        }
      },
      "execution_count": null,
      "outputs": [
        {
          "output_type": "execute_result",
          "data": {
            "text/plain": [
              "10"
            ]
          },
          "metadata": {},
          "execution_count": 60
        }
      ]
    }
  ]
}