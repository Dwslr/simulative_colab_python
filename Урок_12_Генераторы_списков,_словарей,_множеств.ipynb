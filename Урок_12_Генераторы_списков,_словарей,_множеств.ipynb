{
  "nbformat": 4,
  "nbformat_minor": 0,
  "metadata": {
    "colab": {
      "provenance": [],
      "toc_visible": true,
      "include_colab_link": true
    },
    "kernelspec": {
      "name": "python3",
      "display_name": "Python 3"
    },
    "language_info": {
      "name": "python"
    }
  },
  "cells": [
    {
      "cell_type": "markdown",
      "metadata": {
        "id": "view-in-github",
        "colab_type": "text"
      },
      "source": [
        "<a href=\"https://colab.research.google.com/github/Dwslr/simulative_colab_python/blob/main/%D0%A3%D1%80%D0%BE%D0%BA_12_%D0%93%D0%B5%D0%BD%D0%B5%D1%80%D0%B0%D1%82%D0%BE%D1%80%D1%8B_%D1%81%D0%BF%D0%B8%D1%81%D0%BA%D0%BE%D0%B2%2C_%D1%81%D0%BB%D0%BE%D0%B2%D0%B0%D1%80%D0%B5%D0%B9%2C_%D0%BC%D0%BD%D0%BE%D0%B6%D0%B5%D1%81%D1%82%D0%B2.ipynb\" target=\"_parent\"><img src=\"https://colab.research.google.com/assets/colab-badge.svg\" alt=\"Open In Colab\"/></a>"
      ]
    },
    {
      "cell_type": "markdown",
      "source": [
        "# Базовый list comprehension"
      ],
      "metadata": {
        "id": "8A3PfCSbVgOb"
      }
    },
    {
      "cell_type": "code",
      "source": [
        "[элемент for элемент in коллекция]"
      ],
      "metadata": {
        "id": "hyAVIMpdVjkK"
      },
      "execution_count": null,
      "outputs": []
    },
    {
      "cell_type": "code",
      "source": [
        "lst = [1, 2, 3, 4, 5]\n",
        "\n",
        "result = []\n",
        "for el in lst:\n",
        "  result.append(el**2)\n",
        "\n",
        "print(result)"
      ],
      "metadata": {
        "colab": {
          "base_uri": "https://localhost:8080/"
        },
        "id": "kZOuuMt_4rJk",
        "outputId": "074a9e60-13bf-4b84-c6e5-e69b5b23e055"
      },
      "execution_count": null,
      "outputs": [
        {
          "output_type": "stream",
          "name": "stdout",
          "text": [
            "[1, 4, 9, 16, 25]\n"
          ]
        }
      ]
    },
    {
      "cell_type": "code",
      "source": [
        "[el**2 for el in lst]"
      ],
      "metadata": {
        "colab": {
          "base_uri": "https://localhost:8080/"
        },
        "id": "02SZ3b4T41KB",
        "outputId": "09d0783e-a897-49a9-8fa1-e35a873706f5"
      },
      "execution_count": null,
      "outputs": [
        {
          "output_type": "execute_result",
          "data": {
            "text/plain": [
              "[1, 4, 9, 16, 25]"
            ]
          },
          "metadata": {},
          "execution_count": 2
        }
      ]
    },
    {
      "cell_type": "code",
      "source": [
        "t = list(range(51))\n",
        "\n",
        "print(t)"
      ],
      "metadata": {
        "colab": {
          "base_uri": "https://localhost:8080/"
        },
        "id": "r9FCORZv5Uhd",
        "outputId": "81c99047-0f4b-4ea0-c920-c0a420663283"
      },
      "execution_count": null,
      "outputs": [
        {
          "output_type": "stream",
          "name": "stdout",
          "text": [
            "[0, 1, 2, 3, 4, 5, 6, 7, 8, 9, 10, 11, 12, 13, 14, 15, 16, 17, 18, 19, 20, 21, 22, 23, 24, 25, 26, 27, 28, 29, 30, 31, 32, 33, 34, 35, 36, 37, 38, 39, 40, 41, 42, 43, 44, 45, 46, 47, 48, 49, 50]\n"
          ]
        }
      ]
    },
    {
      "cell_type": "code",
      "source": [
        "from math import sin\n",
        "\n",
        "list(map(sin, t))"
      ],
      "metadata": {
        "id": "yt-cNju15d6o"
      },
      "execution_count": null,
      "outputs": []
    },
    {
      "cell_type": "code",
      "source": [
        "[sin(ti) for ti in t]"
      ],
      "metadata": {
        "id": "-8Xg7drX5oqZ"
      },
      "execution_count": null,
      "outputs": []
    },
    {
      "cell_type": "code",
      "source": [
        "list(map(sin, t)) == [sin(ti) for ti in t]"
      ],
      "metadata": {
        "colab": {
          "base_uri": "https://localhost:8080/"
        },
        "id": "0qmahLID5uAO",
        "outputId": "56de9d01-a90c-4976-a8c0-cc781eeeaf0e"
      },
      "execution_count": null,
      "outputs": [
        {
          "output_type": "execute_result",
          "data": {
            "text/plain": [
              "True"
            ]
          },
          "metadata": {},
          "execution_count": 7
        }
      ]
    },
    {
      "cell_type": "code",
      "source": [
        "[5 for _ in t]"
      ],
      "metadata": {
        "id": "yLuaSgdE507t"
      },
      "execution_count": null,
      "outputs": []
    },
    {
      "cell_type": "markdown",
      "source": [
        "# Добавление условий"
      ],
      "metadata": {
        "id": "BFAPAQuNV1HB"
      }
    },
    {
      "cell_type": "code",
      "source": [
        "lst = [1, [1, 2], [3, 4, 5], 10]"
      ],
      "metadata": {
        "id": "3IMj4c5tW05o"
      },
      "execution_count": null,
      "outputs": []
    },
    {
      "cell_type": "code",
      "source": [
        "[len(el) for el in lst]"
      ],
      "metadata": {
        "colab": {
          "base_uri": "https://localhost:8080/",
          "height": 217
        },
        "id": "AawR1xfu6Wbu",
        "outputId": "82ad9edd-71a3-4c8f-ca6c-d57509318d71"
      },
      "execution_count": null,
      "outputs": [
        {
          "output_type": "error",
          "ename": "TypeError",
          "evalue": "ignored",
          "traceback": [
            "\u001b[0;31m---------------------------------------------------------------------------\u001b[0m",
            "\u001b[0;31mTypeError\u001b[0m                                 Traceback (most recent call last)",
            "\u001b[0;32m<ipython-input-10-86ed69141faf>\u001b[0m in \u001b[0;36m<module>\u001b[0;34m\u001b[0m\n\u001b[0;32m----> 1\u001b[0;31m \u001b[0;34m[\u001b[0m\u001b[0mlen\u001b[0m\u001b[0;34m(\u001b[0m\u001b[0mel\u001b[0m\u001b[0;34m)\u001b[0m \u001b[0;32mfor\u001b[0m \u001b[0mel\u001b[0m \u001b[0;32min\u001b[0m \u001b[0mlst\u001b[0m\u001b[0;34m]\u001b[0m\u001b[0;34m\u001b[0m\u001b[0;34m\u001b[0m\u001b[0m\n\u001b[0m",
            "\u001b[0;32m<ipython-input-10-86ed69141faf>\u001b[0m in \u001b[0;36m<listcomp>\u001b[0;34m(.0)\u001b[0m\n\u001b[0;32m----> 1\u001b[0;31m \u001b[0;34m[\u001b[0m\u001b[0mlen\u001b[0m\u001b[0;34m(\u001b[0m\u001b[0mel\u001b[0m\u001b[0;34m)\u001b[0m \u001b[0;32mfor\u001b[0m \u001b[0mel\u001b[0m \u001b[0;32min\u001b[0m \u001b[0mlst\u001b[0m\u001b[0;34m]\u001b[0m\u001b[0;34m\u001b[0m\u001b[0;34m\u001b[0m\u001b[0m\n\u001b[0m",
            "\u001b[0;31mTypeError\u001b[0m: object of type 'int' has no len()"
          ]
        }
      ]
    },
    {
      "cell_type": "code",
      "source": [
        "[len(el) for el in lst if isinstance(el, list)]"
      ],
      "metadata": {
        "colab": {
          "base_uri": "https://localhost:8080/"
        },
        "id": "LlIh9CLO6eYY",
        "outputId": "f54d5d44-7c97-48d5-8362-65d580343e2c"
      },
      "execution_count": null,
      "outputs": [
        {
          "output_type": "execute_result",
          "data": {
            "text/plain": [
              "[2, 3]"
            ]
          },
          "metadata": {},
          "execution_count": 11
        }
      ]
    },
    {
      "cell_type": "code",
      "source": [
        "[len(el) if isinstance(el, list) else 1 for el in lst]"
      ],
      "metadata": {
        "colab": {
          "base_uri": "https://localhost:8080/"
        },
        "id": "nG9uJA0g6nN4",
        "outputId": "b54a60c2-02d8-4cbe-bd83-0b0c2dd22efe"
      },
      "execution_count": null,
      "outputs": [
        {
          "output_type": "execute_result",
          "data": {
            "text/plain": [
              "[1, 2, 3, 1]"
            ]
          },
          "metadata": {},
          "execution_count": 12
        }
      ]
    },
    {
      "cell_type": "code",
      "source": [
        "def check(x):\n",
        "  if isinstance(x, list):\n",
        "    return len(x)\n",
        "  return 1"
      ],
      "metadata": {
        "id": "tDwuLnWh6x6d"
      },
      "execution_count": null,
      "outputs": []
    },
    {
      "cell_type": "code",
      "source": [
        "[check(x) for x in lst]"
      ],
      "metadata": {
        "colab": {
          "base_uri": "https://localhost:8080/"
        },
        "id": "OB73JAwh63te",
        "outputId": "e6a91c3c-2ec0-475d-caf3-b8623b9ae66b"
      },
      "execution_count": null,
      "outputs": [
        {
          "output_type": "execute_result",
          "data": {
            "text/plain": [
              "[1, 2, 3, 1]"
            ]
          },
          "metadata": {},
          "execution_count": 14
        }
      ]
    },
    {
      "cell_type": "markdown",
      "source": [
        "# А если по нескольким спискам?"
      ],
      "metadata": {
        "id": "i3MYTen1V2z0"
      }
    },
    {
      "cell_type": "code",
      "source": [
        "lst = [[1, 2, 3], [3, 4], [], [5, 6, 7, 8]]\n",
        "\n",
        "result = []\n",
        "for subarr in lst:\n",
        "  for el in subarr:\n",
        "    result.append(el)\n",
        "\n",
        "print(result)"
      ],
      "metadata": {
        "id": "kFpUqjiyWODS",
        "colab": {
          "base_uri": "https://localhost:8080/"
        },
        "outputId": "b36eeda2-0e25-4e75-f331-ccb64a142f12"
      },
      "execution_count": null,
      "outputs": [
        {
          "output_type": "stream",
          "name": "stdout",
          "text": [
            "[1, 2, 3, 3, 4, 5, 6, 7, 8]\n"
          ]
        }
      ]
    },
    {
      "cell_type": "code",
      "source": [
        "[el for subarr in lst for el in subarr]"
      ],
      "metadata": {
        "colab": {
          "base_uri": "https://localhost:8080/"
        },
        "id": "Z02Ky4xv7Z1e",
        "outputId": "17714003-c92a-4aac-a926-a9593d33af19"
      },
      "execution_count": null,
      "outputs": [
        {
          "output_type": "execute_result",
          "data": {
            "text/plain": [
              "[1, 2, 3, 3, 4, 5, 6, 7, 8]"
            ]
          },
          "metadata": {},
          "execution_count": 16
        }
      ]
    },
    {
      "cell_type": "code",
      "source": [
        "lst = [\n",
        "    [\n",
        "        [1, 2, 3],\n",
        "        [3, 4],\n",
        "        [],\n",
        "        [5, 6, 7, 8]\n",
        "     ]\n",
        "]\n",
        "\n",
        "[el for arr in lst for subarr in arr for el in subarr]"
      ],
      "metadata": {
        "colab": {
          "base_uri": "https://localhost:8080/"
        },
        "id": "TYTu--eV7sKQ",
        "outputId": "f069d6d3-7a24-4618-a23a-2d7336553d33"
      },
      "execution_count": null,
      "outputs": [
        {
          "output_type": "execute_result",
          "data": {
            "text/plain": [
              "[1, 2, 3, 3, 4, 5, 6, 7, 8]"
            ]
          },
          "metadata": {},
          "execution_count": 17
        }
      ]
    },
    {
      "cell_type": "code",
      "source": [
        "codes = [0, 1, 1, 2, 0]\n",
        "outputs = [[100, 200], 'Все ок', 'Все не ок', 'SyntaxError', 1000]\n",
        "\n",
        "codes_d = {\n",
        "    0: \"Тест пройден успешно\",\n",
        "    1: \"Тест не пройден\",\n",
        "    2: \"Ошибка при выполнении\"\n",
        "}\n",
        "\n",
        "results = [f\"{codes_d[code_i]}\\n\\n{output_i}\" for code_i, output_i in zip(codes, outputs)]\n",
        "\n",
        "for res in results:\n",
        "  print(res)"
      ],
      "metadata": {
        "colab": {
          "base_uri": "https://localhost:8080/"
        },
        "id": "Wqrs7roT786s",
        "outputId": "f3583780-c887-4e02-867b-10398ed57069"
      },
      "execution_count": null,
      "outputs": [
        {
          "output_type": "stream",
          "name": "stdout",
          "text": [
            "Тест пройден успешно\n",
            "\n",
            "[100, 200]\n",
            "Тест не пройден\n",
            "\n",
            "Все ок\n",
            "Тест не пройден\n",
            "\n",
            "Все не ок\n",
            "Ошибка при выполнении\n",
            "\n",
            "SyntaxError\n",
            "Тест пройден успешно\n",
            "\n",
            "1000\n"
          ]
        }
      ]
    },
    {
      "cell_type": "code",
      "source": [
        "[f\"Тест с номером {i}: статус - {codes_d[code_i]}\" for i, code_i in enumerate(codes)]"
      ],
      "metadata": {
        "colab": {
          "base_uri": "https://localhost:8080/"
        },
        "id": "JRQZGtel9Y6W",
        "outputId": "b8b465b8-bcd8-4424-9039-b43acc229d86"
      },
      "execution_count": null,
      "outputs": [
        {
          "output_type": "execute_result",
          "data": {
            "text/plain": [
              "['Тест с номером 0: статус - Тест пройден успешно',\n",
              " 'Тест с номером 1: статус - Тест не пройден',\n",
              " 'Тест с номером 2: статус - Тест не пройден',\n",
              " 'Тест с номером 3: статус - Ошибка при выполнении',\n",
              " 'Тест с номером 4: статус - Тест пройден успешно']"
            ]
          },
          "metadata": {},
          "execution_count": 20
        }
      ]
    },
    {
      "cell_type": "code",
      "source": [
        "lst = [10, 20, 30]\n",
        "\n",
        "[[i for i in range(el)] for el in lst]"
      ],
      "metadata": {
        "id": "2VNLEZcj955F"
      },
      "execution_count": null,
      "outputs": []
    },
    {
      "cell_type": "markdown",
      "source": [
        "# Генератор множеств"
      ],
      "metadata": {
        "id": "-GaXjpZHWb95"
      }
    },
    {
      "cell_type": "code",
      "source": [
        "{el for el in lst}"
      ],
      "metadata": {
        "id": "YmLLSM_KWlfj",
        "colab": {
          "base_uri": "https://localhost:8080/"
        },
        "outputId": "f0d43d12-1d72-4ca4-ed4c-9d5cfc435b35"
      },
      "execution_count": null,
      "outputs": [
        {
          "output_type": "execute_result",
          "data": {
            "text/plain": [
              "{10, 20, 30}"
            ]
          },
          "metadata": {},
          "execution_count": 22
        }
      ]
    },
    {
      "cell_type": "code",
      "source": [
        "lst = [[1, 2, 3], [], [1, 5, 18], [], [2, 4, 7, 9, 10]]\n",
        "\n",
        "result = []\n",
        "for subarr in lst:\n",
        "  for el in subarr:\n",
        "    if el%2 == 0 and el not in result:\n",
        "      result.append(el)\n",
        "\n",
        "print(result)"
      ],
      "metadata": {
        "colab": {
          "base_uri": "https://localhost:8080/"
        },
        "id": "q86soqr2-R7x",
        "outputId": "8398a250-01bd-4fc0-93ba-5d591c09d580"
      },
      "execution_count": null,
      "outputs": [
        {
          "output_type": "stream",
          "name": "stdout",
          "text": [
            "[2, 18, 4, 10]\n"
          ]
        }
      ]
    },
    {
      "cell_type": "code",
      "source": [
        "{el for subarr in lst for el in subarr if el%2 == 0}"
      ],
      "metadata": {
        "colab": {
          "base_uri": "https://localhost:8080/"
        },
        "id": "ON8xeoHR-t4w",
        "outputId": "e8805476-a1f5-4823-8d30-424816122aa0"
      },
      "execution_count": null,
      "outputs": [
        {
          "output_type": "execute_result",
          "data": {
            "text/plain": [
              "{2, 4, 10, 18}"
            ]
          },
          "metadata": {},
          "execution_count": 26
        }
      ]
    },
    {
      "cell_type": "markdown",
      "source": [
        "# Генератор словарей"
      ],
      "metadata": {
        "id": "gIpur0REWlvo"
      }
    },
    {
      "cell_type": "code",
      "source": [
        "{k: v for ... in ...}"
      ],
      "metadata": {
        "id": "uUGqWMslWnWY"
      },
      "execution_count": null,
      "outputs": []
    },
    {
      "cell_type": "code",
      "source": [
        "{k: codes_d[v] for k, v in enumerate(codes)}"
      ],
      "metadata": {
        "colab": {
          "base_uri": "https://localhost:8080/"
        },
        "id": "t7g6TjMR-_8m",
        "outputId": "68481d23-1da1-4553-da9e-2d210d7333ca"
      },
      "execution_count": null,
      "outputs": [
        {
          "output_type": "execute_result",
          "data": {
            "text/plain": [
              "{0: 'Тест пройден успешно',\n",
              " 1: 'Тест не пройден',\n",
              " 2: 'Тест не пройден',\n",
              " 3: 'Ошибка при выполнении',\n",
              " 4: 'Тест пройден успешно'}"
            ]
          },
          "metadata": {},
          "execution_count": 29
        }
      ]
    },
    {
      "cell_type": "code",
      "source": [
        "nums = list(range(5))"
      ],
      "metadata": {
        "id": "dlWWDRHF_Ud-"
      },
      "execution_count": null,
      "outputs": []
    },
    {
      "cell_type": "code",
      "source": [
        "nums"
      ],
      "metadata": {
        "colab": {
          "base_uri": "https://localhost:8080/"
        },
        "id": "A_pbZBvN_bor",
        "outputId": "2b127b19-6e00-4bc5-a264-1a4793669c26"
      },
      "execution_count": null,
      "outputs": [
        {
          "output_type": "execute_result",
          "data": {
            "text/plain": [
              "[0, 1, 2, 3, 4]"
            ]
          },
          "metadata": {},
          "execution_count": 31
        }
      ]
    },
    {
      "cell_type": "code",
      "source": [
        "results = [codes_d[el] for el in codes]"
      ],
      "metadata": {
        "id": "KLULxzHe_c57"
      },
      "execution_count": null,
      "outputs": []
    },
    {
      "cell_type": "code",
      "source": [
        "results"
      ],
      "metadata": {
        "colab": {
          "base_uri": "https://localhost:8080/"
        },
        "id": "sYiDTH3B_hgi",
        "outputId": "96e4c2f9-bf4e-47c2-cf4d-3d2de9839d73"
      },
      "execution_count": null,
      "outputs": [
        {
          "output_type": "execute_result",
          "data": {
            "text/plain": [
              "['Тест пройден успешно',\n",
              " 'Тест не пройден',\n",
              " 'Тест не пройден',\n",
              " 'Ошибка при выполнении',\n",
              " 'Тест пройден успешно']"
            ]
          },
          "metadata": {},
          "execution_count": 33
        }
      ]
    },
    {
      "cell_type": "code",
      "source": [
        "d = {k: v for k, v in zip(nums, results)}"
      ],
      "metadata": {
        "id": "q8GGqee2_k_b"
      },
      "execution_count": null,
      "outputs": []
    },
    {
      "cell_type": "code",
      "source": [
        "d"
      ],
      "metadata": {
        "colab": {
          "base_uri": "https://localhost:8080/"
        },
        "id": "FQJd2EqV_rWY",
        "outputId": "32e2c932-5d3f-4445-8de4-d85cf124c3d2"
      },
      "execution_count": null,
      "outputs": [
        {
          "output_type": "execute_result",
          "data": {
            "text/plain": [
              "{0: 'Тест пройден успешно',\n",
              " 1: 'Тест не пройден',\n",
              " 2: 'Тест не пройден',\n",
              " 3: 'Ошибка при выполнении',\n",
              " 4: 'Тест пройден успешно'}"
            ]
          },
          "metadata": {},
          "execution_count": 36
        }
      ]
    },
    {
      "cell_type": "code",
      "source": [
        "nums = [1, 2, 3]\n",
        "nums2 = [1, 2, 3, 4]\n",
        "nums3 = [1, 2, 3, 4, 5]\n",
        "\n",
        "for x, y, z in zip(nums, nums2, nums3):\n",
        "  print(x, y, z)"
      ],
      "metadata": {
        "colab": {
          "base_uri": "https://localhost:8080/"
        },
        "id": "tRo6GH-GAbqN",
        "outputId": "10766bb3-65a1-4f1b-8b37-c12decd54d90"
      },
      "execution_count": null,
      "outputs": [
        {
          "output_type": "stream",
          "name": "stdout",
          "text": [
            "1 1 1\n",
            "2 2 2\n",
            "3 3 3\n"
          ]
        }
      ]
    },
    {
      "cell_type": "code",
      "source": [
        "from itertools import zip_longest"
      ],
      "metadata": {
        "id": "59uXUHklAo0N"
      },
      "execution_count": null,
      "outputs": []
    },
    {
      "cell_type": "code",
      "source": [
        "for x, y, z in zip_longest(nums, nums2, nums3):\n",
        "  print(x, y, z)"
      ],
      "metadata": {
        "colab": {
          "base_uri": "https://localhost:8080/"
        },
        "id": "x95tZmXaAsYH",
        "outputId": "a272784e-42cd-4644-8a4a-27dbc035d02b"
      },
      "execution_count": null,
      "outputs": [
        {
          "output_type": "stream",
          "name": "stdout",
          "text": [
            "1 1 1\n",
            "2 2 2\n",
            "3 3 3\n",
            "None 4 4\n",
            "None None 5\n"
          ]
        }
      ]
    },
    {
      "cell_type": "code",
      "source": [
        "for x, y, z in zip_longest(nums, nums2, nums3, fillvalue=0):\n",
        "  print(x, y, z)"
      ],
      "metadata": {
        "id": "ZAFRiuIMAwgE",
        "outputId": "65a48f76-e6a9-4f1d-bf39-61baa6706e7b",
        "colab": {
          "base_uri": "https://localhost:8080/"
        }
      },
      "execution_count": null,
      "outputs": [
        {
          "output_type": "stream",
          "name": "stdout",
          "text": [
            "1 1 1\n",
            "2 2 2\n",
            "3 3 3\n",
            "0 4 4\n",
            "0 0 5\n"
          ]
        }
      ]
    }
  ]
}